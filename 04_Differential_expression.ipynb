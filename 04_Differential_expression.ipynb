{
  "cells": [
    {
      "cell_type": "markdown",
      "metadata": {
        "id": "rL3ZW1M8xQH9"
      },
      "source": [
        "# Workshop #4. Statistical analysis of bulk RNA-seq\n",
        "\n",
        "### Daniil Bobrovskiy, tg @daniilbobrovskiy"
      ]
    },
    {
      "cell_type": "markdown",
      "metadata": {
        "id": "Jtt0KSP0l8wD"
      },
      "source": [
        "## Introduction"
      ]
    },
    {
      "cell_type": "markdown",
      "metadata": {
        "id": "Ww5p7gHzJDkh"
      },
      "source": [
        "In this tutorial, we will analyze the bulk RNA-seq data from Walker et al., Scientific reports 2019 ([10.1038/s41598-019-56955-1](https://doi.org/10.1038/s41598-019-56955-1)). The goal of this study was to evaluate the changes in gene expression that occur during fibroblast to myofibroblast transdifferentiation in lungs. This transdifferentiation is known to occur in asthma and other lung diseases. Since it is also known that TGF-β can cause this process, the authors treated a culture of human lung fibroblasts with TGF-β to induce transdifferentiation.\n",
        "\n",
        "The data consists of 12 samples from the cultured cells: 6 treated and 6 untreated with TGF-β. In each group, 3 samples were sequenced at day 1 after seeding cells and treating with TGF-β, while 3 other samples - at day 10."
      ]
    },
    {
      "cell_type": "markdown",
      "source": [
        "Let's download the count matrix, which was already preprocessed by the authors, from the Gene Expression Omnibus (GEO)."
      ],
      "metadata": {
        "id": "k5QzNyaDzftr"
      }
    },
    {
      "cell_type": "markdown",
      "metadata": {
        "id": "MKBc_1DHfirY"
      },
      "source": [
        "It is important to note that a proper way to analyse RNA-seq data is to quantify the level of expression of different transcripts separately. After that, if the relative abundance of different isoforms is not of primary interest, the data can be aggregated to the gene-wise level, taking isoform lengths into account.\n",
        "\n",
        "There is an amazing tool to perform this aggregation, no matter which transcript quantification tool you have used. It is an R library **tximport**, which **you should always use in your RNA-seq analysis**. Its tutorial tells you how to import quantification results from different tools (salmon/kallisto/RSEM/...) and how to pass tximport resuts into downstream libraries for differential expression analysis (edgeR/DESeq2/limma-voom): https://bioconductor.org/packages/release/bioc/vignettes/tximport/inst/doc/tximport.html."
      ]
    },
    {
      "cell_type": "markdown",
      "source": [
        "However, the authors of the paper have simply calculated the counts for different genes and we will have to use this data in our tutorial."
      ],
      "metadata": {
        "id": "QH3l6_kqzvqI"
      }
    },
    {
      "cell_type": "code",
      "execution_count": null,
      "metadata": {
        "id": "9eHFZPutvINj"
      },
      "outputs": [],
      "source": [
        "# download data\n",
        "!wget https://ftp.ncbi.nlm.nih.gov/geo/series/GSE110nnn/GSE110021/suppl/GSE110021%5Fcounts.Aug2015.txt.gz\n",
        "\n",
        "# unzip count matrices\n",
        "!gunzip GSE110021_counts.Aug2015.txt.gz"
      ]
    },
    {
      "cell_type": "markdown",
      "metadata": {
        "id": "z_t8XyUVmB3v"
      },
      "source": [
        "Now, we will install and load the required packages. One of them is Rpy2, which allows us to work in R from GoogleColab. Actually, it even allows to pass the objects between Python and R, but we won't use this feature in this tutorial."
      ]
    },
    {
      "cell_type": "code",
      "execution_count": null,
      "metadata": {
        "id": "86cZD7TuCJxG"
      },
      "outputs": [],
      "source": [
        "!echo \"deb http://security.ubuntu.com/ubuntu focal-security main\" | sudo tee /etc/apt/sources.list.d/focal-security.list\n",
        "!apt-get update\n",
        "!apt-get install libgmp3-dev libcairo2-dev libharfbuzz-dev libfribidi-dev libssl1.1\n",
        "\n",
        "!pip install --upgrade gdown\n",
        "!gdown 1XAbJa_suP-WFTKK628oM9EWsV7k-6fI9\n",
        "!gdown 1Bt4HDrZqFId_7Ph99pSvhfFHxyrV-kaL\n",
        "!tar xf library.tar.gz"
      ]
    },
    {
      "cell_type": "code",
      "execution_count": null,
      "metadata": {
        "id": "p0IYP53LwY5_"
      },
      "outputs": [],
      "source": [
        "%load_ext rpy2.ipython\n",
        "%R .libPaths(\"usr/local/lib/R/site-library/\")\n",
        "!Rscript -e 'install.packages(\"statmod\")'\n",
        "!Rscript -e 'install.packages(\"VennDiagram\")'"
      ]
    },
    {
      "cell_type": "code",
      "execution_count": 5,
      "metadata": {
        "id": "pwViXbtcjIxh"
      },
      "outputs": [],
      "source": [
        "%%R\n",
        "suppressPackageStartupMessages({\n",
        "  library(ggplot2)\n",
        "  library(ggrepel)\n",
        "  library(stringr)\n",
        "  library(dplyr)\n",
        "  library(edgeR)\n",
        "})"
      ]
    },
    {
      "cell_type": "markdown",
      "source": [
        "## Differential expression in edgeR\n",
        "\n",
        "Another preprocessing step that is often done prior to DE analysis is the removal of all non-coding RNAs. If you want to do it, the easiest way is to load the transcript annotations corresponding to your transcriptome/genome versions from BioMart (https://www.ensembl.org/info/data/biomart/index.html). Often, if your data were mapped using not the latest annotation version, you should first go to Ensembl Archive (https://www.ensembl.org/info/website/archives/index.html), find a matching version and open BioMart from there.\n",
        "\n",
        "In BioMart, you should select \"Gene type\" in the desired exported attributes together with the IDs needed to match your data to the resulting table. Once you obtained the table, you can simply filter your dataset to contain only \"protein_coding\" genes.\n",
        "\n",
        "In addition to that, it is often desirable to convert unreadable ENSEMBL IDs to conventional gene names. This can be done by including the \"Gene name\" attribute to the BioMart export."
      ],
      "metadata": {
        "id": "yi3ce_0GM6LP"
      }
    },
    {
      "cell_type": "code",
      "source": [
        "%%R\n",
        "# load data; since the authors didn't merge the lanes, we'll have to do it ourselves\n",
        "counts <- read.table(\"GSE110021_counts.Aug2015.txt\")\n",
        "counts <- data.frame(D1_cont_1=rowSums(select(counts, starts_with(\"D1.noTGFb.1\"))),\n",
        "                     D1_cont_2=rowSums(select(counts, starts_with(\"D1.noTGFb.2\"))),\n",
        "                     D1_cont_3=rowSums(select(counts, starts_with(\"D1.noTGFb.3\"))),\n",
        "                     D1_tgf_1=rowSums(select(counts, starts_with(\"D1.TGFb.1\"))),\n",
        "                     D1_tgf_2=rowSums(select(counts, starts_with(\"D1.TGFb.2\"))),\n",
        "                     D1_tgf_3=rowSums(select(counts, starts_with(\"D1.TGFb.3\"))),\n",
        "                     D20_cont_1=rowSums(select(counts, starts_with(\"D20.noTGFb.1\"))),\n",
        "                     D20_cont_2=rowSums(select(counts, starts_with(\"D20.noTGFb.2\"))),\n",
        "                     D20_cont_3=rowSums(select(counts, starts_with(\"D20.noTGFb.3\"))),\n",
        "                     D20_tgf_1=rowSums(select(counts, starts_with(\"D20.TGFb.1\"))),\n",
        "                     D20_tgf_2=rowSums(select(counts, starts_with(\"D20.TGFb.2\"))),\n",
        "                     D20_tgf_3=rowSums(select(counts, starts_with(\"D20.TGFb.3\"))))"
      ],
      "metadata": {
        "id": "cYfOx8HvsRsD"
      },
      "execution_count": 6,
      "outputs": []
    },
    {
      "cell_type": "markdown",
      "source": [
        "Let's load the table I pre-downloaded from BioMart"
      ],
      "metadata": {
        "id": "YfjwM1enrI2Q"
      }
    },
    {
      "cell_type": "code",
      "source": [
        "%%R\n",
        "biomart <- read.table(\"biomart_hg19_ensembl75.tsv\", sep=\"\\t\", header=TRUE)\n",
        "str(biomart)"
      ],
      "metadata": {
        "colab": {
          "base_uri": "https://localhost:8080/"
        },
        "id": "7o6xw1xTDgVm",
        "outputId": "10fd4eee-ceb5-4ce6-a975-cc0d0c4e9cdc"
      },
      "execution_count": 7,
      "outputs": [
        {
          "output_type": "stream",
          "name": "stdout",
          "text": [
            "'data.frame':\t233303 obs. of  7 variables:\n",
            " $ Gene.stable.ID                    : chr  \"ENSG00000261657\" \"ENSG00000261657\" \"ENSG00000261657\" \"ENSG00000261657\" ...\n",
            " $ Gene.stable.ID.version            : chr  \"ENSG00000261657.1\" \"ENSG00000261657.1\" \"ENSG00000261657.1\" \"ENSG00000261657.1\" ...\n",
            " $ Transcript.stable.ID              : chr  \"ENST00000566782\" \"ENST00000562780\" \"ENST00000569579\" \"ENST00000568242\" ...\n",
            " $ Transcript.stable.ID.version      : chr  \"ENST00000566782.1\" \"ENST00000562780.1\" \"ENST00000569579.1\" \"ENST00000568242.1\" ...\n",
            " $ NCBI.gene..formerly.Entrezgene..ID: int  115286 115286 115286 115286 115286 NA NA NA NA 100873766 ...\n",
            " $ Gene.name                         : chr  \"SLC25A26\" \"SLC25A26\" \"SLC25A26\" \"SLC25A26\" ...\n",
            " $ Gene.type                         : chr  \"protein_coding\" \"protein_coding\" \"protein_coding\" \"protein_coding\" ...\n"
          ]
        }
      ]
    },
    {
      "cell_type": "code",
      "source": [
        "%%R\n",
        "protein_coding <- biomart$Gene.type[match(rownames(counts), biomart$NCBI.gene..formerly.Entrezgene..ID)] == \"protein_coding\"\n",
        "protein_coding[is.na(protein_coding)] <- FALSE\n",
        "counts <- counts[protein_coding,]\n",
        "ensembl <- biomart$Gene.stable.ID[match(rownames(counts), biomart$NCBI.gene..formerly.Entrezgene..ID)]\n",
        "symbol <- biomart$Gene.name[match(rownames(counts), biomart$NCBI.gene..formerly.Entrezgene..ID)]\n",
        "str(counts)"
      ],
      "metadata": {
        "colab": {
          "base_uri": "https://localhost:8080/"
        },
        "id": "gqLxY0JfADmC",
        "outputId": "0ba82dc8-b027-4c49-b3d9-00320c8389de"
      },
      "execution_count": 8,
      "outputs": [
        {
          "output_type": "stream",
          "name": "stdout",
          "text": [
            "'data.frame':\t19016 obs. of  12 variables:\n",
            " $ D1_cont_1 : num  0 0 0 3 1394 ...\n",
            " $ D1_cont_2 : num  0 0 0 27 1522 ...\n",
            " $ D1_cont_3 : num  0 0 0 4 1281 ...\n",
            " $ D1_tgf_1  : num  0 0 0 14 954 109 23 9 11 131 ...\n",
            " $ D1_tgf_2  : num  0 0 0 26 1861 ...\n",
            " $ D1_tgf_3  : num  0 0 0 11 920 92 25 4 11 133 ...\n",
            " $ D20_cont_1: num  0 0 0 15 680 113 26 4 20 230 ...\n",
            " $ D20_cont_2: num  0 0 0 32 865 169 26 6 27 329 ...\n",
            " $ D20_cont_3: num  0 0 0 14 999 182 40 11 25 384 ...\n",
            " $ D20_tgf_1 : num  0 0 0 40 1187 ...\n",
            " $ D20_tgf_2 : num  0 0 0 22 681 103 30 4 5 202 ...\n",
            " $ D20_tgf_3 : num  0 0 0 11 700 133 35 3 6 174 ...\n"
          ]
        }
      ]
    },
    {
      "cell_type": "markdown",
      "source": [
        "Let's use principal component analysis to visualize overall differences between our samples"
      ],
      "metadata": {
        "id": "LxDQzxv0rV1R"
      }
    },
    {
      "cell_type": "code",
      "source": [
        "%%R\n",
        "# scale the data\n",
        "counts_scaled <- t(scale(counts))\n",
        "\n",
        "# run PCA\n",
        "pca_result <- prcomp(counts_scaled, center = TRUE, scale. = TRUE)\n",
        "variance_explained <- pca_result$sdev^2 / sum(pca_result$sdev^2) * 100\n",
        "\n",
        "# extract first two PCs\n",
        "scores_df <- data.frame(PC1 = pca_result$x[,1], PC2 = pca_result$x[,2])\n",
        "scores_df$Sample = row.names(scores_df)\n",
        "groups <- str_remove(scores_df$Sample, \"_[0-9]+$\")\n",
        "scores_df$group = groups\n",
        "\n",
        "# plot first two PCs\n",
        "ggplot(scores_df, aes(x = PC1, y = PC2, label = Sample, color = group)) +\n",
        "  geom_point(size=2) +\n",
        "  geom_text_repel(size=5,\n",
        "                  box.padding = 0.5,\n",
        "                  point.padding = 0.5,\n",
        "                  max.overlaps = Inf)+\n",
        "  theme_minimal()+\n",
        "  theme(legend.position = \"none\")+\n",
        "  labs(x=paste(\"PC1 (\", sprintf(\"%.1f\", variance_explained[1]), \"%)\", sep=\"\"),,\n",
        "       y=paste(\"PC2 (\", sprintf(\"%.1f\", variance_explained[2]), \"%)\", sep=\"\"),)"
      ],
      "metadata": {
        "id": "b_YItCFVu8_j"
      },
      "execution_count": null,
      "outputs": []
    },
    {
      "cell_type": "markdown",
      "source": [
        "Loading our counts into edgeR and adding information about the groups"
      ],
      "metadata": {
        "id": "uQ-xf1F9rjMm"
      }
    },
    {
      "cell_type": "code",
      "source": [
        "%%R\n",
        "y <- DGEList(counts=counts, group=groups)\n",
        "design <- model.matrix(~0+groups)\n",
        "colnames(design) <- str_remove(colnames(design), \"groups\")\n",
        "design"
      ],
      "metadata": {
        "colab": {
          "base_uri": "https://localhost:8080/"
        },
        "id": "FbuT70lU3lZJ",
        "outputId": "31b49334-c182-4074-ac94-5583d5817012"
      },
      "execution_count": 18,
      "outputs": [
        {
          "output_type": "stream",
          "name": "stdout",
          "text": [
            "   D1_cont D1_tgf D20_cont D20_tgf\n",
            "1        1      0        0       0\n",
            "2        1      0        0       0\n",
            "3        1      0        0       0\n",
            "4        0      1        0       0\n",
            "5        0      1        0       0\n",
            "6        0      1        0       0\n",
            "7        0      0        1       0\n",
            "8        0      0        1       0\n",
            "9        0      0        1       0\n",
            "10       0      0        0       1\n",
            "11       0      0        0       1\n",
            "12       0      0        0       1\n",
            "attr(,\"assign\")\n",
            "[1] 1 1 1 1\n",
            "attr(,\"contrasts\")\n",
            "attr(,\"contrasts\")$groups\n",
            "[1] \"contr.treatment\"\n",
            "\n"
          ]
        }
      ]
    },
    {
      "cell_type": "markdown",
      "source": [
        "## Further work with edgeR"
      ],
      "metadata": {
        "id": "tSlTmvwbcsGR"
      }
    },
    {
      "cell_type": "code",
      "source": [
        "%%R\n",
        "str(y)"
      ],
      "metadata": {
        "colab": {
          "base_uri": "https://localhost:8080/"
        },
        "id": "ZkCRRiv9Ojhk",
        "outputId": "6fb52eab-1bce-4100-99c0-7ce13cdee181"
      },
      "execution_count": 19,
      "outputs": [
        {
          "output_type": "stream",
          "name": "stdout",
          "text": [
            "Formal class 'DGEList' [package \"edgeR\"] with 1 slot\n",
            "  ..@ .Data:List of 2\n",
            "  .. ..$ : num [1:19016, 1:12] 0 0 0 3 1394 ...\n",
            "  .. .. ..- attr(*, \"dimnames\")=List of 2\n",
            "  .. .. .. ..$ : chr [1:19016] \"79501\" \"729759\" \"81399\" \"148398\" ...\n",
            "  .. .. .. ..$ : chr [1:12] \"D1_cont_1\" \"D1_cont_2\" \"D1_cont_3\" \"D1_tgf_1\" ...\n",
            "  .. ..$ :'data.frame':\t12 obs. of  3 variables:\n",
            "  .. .. ..$ group       : Factor w/ 4 levels \"D1_cont\",\"D1_tgf\",..: 1 1 1 2 2 2 3 3 3 4 ...\n",
            "  .. .. ..$ lib.size    : num [1:12] 11357597 14438232 11365167 8542486 17900836 ...\n",
            "  .. .. ..$ norm.factors: num [1:12] 1 1 1 1 1 1 1 1 1 1 ...\n",
            "  ..$ names: chr [1:2] \"counts\" \"samples\"\n"
          ]
        }
      ]
    },
    {
      "cell_type": "markdown",
      "source": [
        "Filtering low-expressed genes"
      ],
      "metadata": {
        "id": "EZDCflQKrqHx"
      }
    },
    {
      "cell_type": "code",
      "source": [
        "%%R\n",
        "keep <- filterByExpr(y, design=design, min.count=10, min.total.count=100, min.prop=0.25)\n",
        "y <- y[keep, , keep.lib.sizes=FALSE]\n",
        "y$genes <- data.frame(Ensembl=ensembl, Symbol=symbol)\n",
        "str(y)"
      ],
      "metadata": {
        "colab": {
          "base_uri": "https://localhost:8080/"
        },
        "id": "3SpXBXoSAolN",
        "outputId": "e3e2fd67-262e-4004-917f-e3b1586157ad"
      },
      "execution_count": 20,
      "outputs": [
        {
          "output_type": "stream",
          "name": "stdout",
          "text": [
            "Formal class 'DGEList' [package \"edgeR\"] with 1 slot\n",
            "  ..@ .Data:List of 3\n",
            "  .. ..$ : num [1:12354, 1:12] 3 1394 164 27 12 ...\n",
            "  .. .. ..- attr(*, \"dimnames\")=List of 2\n",
            "  .. .. .. ..$ : chr [1:12354] \"148398\" \"26155\" \"339451\" \"84069\" ...\n",
            "  .. .. .. ..$ : chr [1:12] \"D1_cont_1\" \"D1_cont_2\" \"D1_cont_3\" \"D1_tgf_1\" ...\n",
            "  .. ..$ :'data.frame':\t12 obs. of  3 variables:\n",
            "  .. .. ..$ group       : Factor w/ 4 levels \"D1_cont\",\"D1_tgf\",..: 1 1 1 2 2 2 3 3 3 4 ...\n",
            "  .. .. ..$ lib.size    : num [1:12] 11351867 14429978 11359967 8538244 17891947 ...\n",
            "  .. .. ..$ norm.factors: num [1:12] 1 1 1 1 1 1 1 1 1 1 ...\n",
            "  .. ..$ :'data.frame':\t19016 obs. of  2 variables:\n",
            "  .. .. ..$ Ensembl: chr [1:19016] \"ENSG00000186092\" \"ENSG00000235249\" \"ENSG00000235249\" \"ENSG00000187634\" ...\n",
            "  .. .. ..$ Symbol : chr [1:19016] \"OR4F5\" \"OR4F29\" \"OR4F29\" \"SAMD11\" ...\n",
            "  ..$ names: chr [1:3] \"counts\" \"samples\" \"genes\"\n"
          ]
        }
      ]
    },
    {
      "cell_type": "markdown",
      "source": [
        "Compute effective library sizes (see lecture)"
      ],
      "metadata": {
        "id": "aB8ZooJIrsDy"
      }
    },
    {
      "cell_type": "code",
      "source": [
        "%%R\n",
        "y <- calcNormFactors(y) # called normLibSizes in newer versions\n",
        "str(y)"
      ],
      "metadata": {
        "colab": {
          "base_uri": "https://localhost:8080/"
        },
        "id": "MPdib9DlB5kh",
        "outputId": "e0dbb246-24b6-4424-f912-03ff31b75b90"
      },
      "execution_count": null,
      "outputs": [
        {
          "output_type": "stream",
          "name": "stdout",
          "text": [
            "Formal class 'DGEList' [package \"edgeR\"] with 1 slot\n",
            "  ..@ .Data:List of 3\n",
            "  .. ..$ : num [1:12354, 1:12] 3 1394 164 27 12 ...\n",
            "  .. .. ..- attr(*, \"dimnames\")=List of 2\n",
            "  .. .. .. ..$ : chr [1:12354] \"148398\" \"26155\" \"339451\" \"84069\" ...\n",
            "  .. .. .. ..$ : chr [1:12] \"D1_cont_1\" \"D1_cont_2\" \"D1_cont_3\" \"D1_tgf_1\" ...\n",
            "  .. ..$ :'data.frame':\t12 obs. of  3 variables:\n",
            "  .. .. ..$ group       : Factor w/ 4 levels \"D1_cont\",\"D1_tgf\",..: 1 1 1 2 2 2 3 3 3 4 ...\n",
            "  .. .. ..$ lib.size    : num [1:12] 11351867 14429978 11359967 8538244 17891947 ...\n",
            "  .. .. ..$ norm.factors: num [1:12] 1.013 1.029 1.015 0.973 0.965 ...\n",
            "  .. ..$ :'data.frame':\t19016 obs. of  2 variables:\n",
            "  .. .. ..$ Ensembl: chr [1:19016] \"ENSG00000186092\" \"ENSG00000235249\" \"ENSG00000235249\" \"ENSG00000187634\" ...\n",
            "  .. .. ..$ Symbol : chr [1:19016] \"OR4F5\" \"OR4F29\" \"OR4F29\" \"SAMD11\" ...\n",
            "  ..$ names: chr [1:3] \"counts\" \"samples\" \"genes\"\n"
          ]
        }
      ]
    },
    {
      "cell_type": "markdown",
      "source": [
        "Compared to what we discussed in the lecture, the variance of the counts in edgeR has a slightly more complicated form. It contains both the common dispersion component for all of the genes $\\phi$, and the gene-wise dispersion component $\\sigma_g$:\n",
        "\n",
        "$Var(y_{ig}) = σ^2_g(\\mu_{ig} + \\phi \\mu^2_{ig}),$ $i$ - sample, $g$ - gene.\n",
        "\n",
        "First, the common dispersion $\\phi$ is evaluated. Then, the trend for the gene-wise dispersions is computed as discussed in the lecture. Finally, the gene-wise dispersions are estimated and squeezed towards that trend."
      ],
      "metadata": {
        "id": "tIT8RX4cGea1"
      }
    },
    {
      "cell_type": "code",
      "source": [
        "%%R\n",
        "y <- estimateDisp(y, design)\n",
        "# this is equivalent to:\n",
        "# y <- estimateGLMCommonDisp(y, design)\n",
        "# y <- estimateGLMTrendedDisp(y, design)\n",
        "# y <- estimateGLMTagwiseDisp(y, design)"
      ],
      "metadata": {
        "id": "AO7Eef-yDeeL"
      },
      "execution_count": null,
      "outputs": []
    },
    {
      "cell_type": "markdown",
      "source": [
        "Now let's tell edgeR, which groups we want to compare"
      ],
      "metadata": {
        "id": "zGDlsVvdPMoV"
      }
    },
    {
      "cell_type": "code",
      "source": [
        "%%R\n",
        "fit <- glmQLFit(y, design)\n",
        "contrasts <- makeContrasts(\n",
        "  cont_20vs1 = D20_cont - D1_cont,\n",
        "  tgf_20vs1 = D20_tgf - D1_tgf,\n",
        "  d1_tgf = D1_tgf - D1_cont,\n",
        "  d20_tgf = D20_tgf - D20_cont,\n",
        "  levels=design)"
      ],
      "metadata": {
        "id": "NFKt9CbX2ojF"
      },
      "execution_count": null,
      "outputs": []
    },
    {
      "cell_type": "code",
      "source": [
        "%%R\n",
        "contrasts"
      ],
      "metadata": {
        "colab": {
          "base_uri": "https://localhost:8080/"
        },
        "id": "ApxkzDnK3AP6",
        "outputId": "226dc528-d922-4707-85b1-333dac4c3528"
      },
      "execution_count": null,
      "outputs": [
        {
          "output_type": "stream",
          "name": "stdout",
          "text": [
            "          Contrasts\n",
            "Levels     cont_20vs1 tgf_20vs1 d1_tgf d20_tgf\n",
            "  D1_cont          -1         0     -1       0\n",
            "  D1_tgf            0        -1      1       0\n",
            "  D20_cont          1         0      0      -1\n",
            "  D20_tgf           0         1      0       1\n"
          ]
        }
      ]
    },
    {
      "cell_type": "markdown",
      "source": [
        "For example, the contrast `cont_20vs1` signifies a statistical test for the null hypothesis that `D20_cont - D1_cont = 0`."
      ],
      "metadata": {
        "id": "f_gLuwy5TSnR"
      }
    },
    {
      "cell_type": "code",
      "source": [
        "%%R\n",
        "qlf_cont_20vs1 <- glmQLFTest(fit, contrast=contrasts[,\"cont_20vs1\"])\n",
        "qlf_tgf_20vs1 <- glmQLFTest(fit, contrast=contrasts[,\"tgf_20vs1\"])\n",
        "qlf_d1_tgf <- glmQLFTest(fit, contrast=contrasts[,\"d1_tgf\"])\n",
        "qlf_d20_tgf <- glmQLFTest(fit, contrast=contrasts[,\"d20_tgf\"])"
      ],
      "metadata": {
        "id": "L2IekEPo3Sbe"
      },
      "execution_count": null,
      "outputs": []
    },
    {
      "cell_type": "code",
      "source": [
        "%%R\n",
        "print(summary(decideTests(qlf_cont_20vs1)))\n",
        "print(summary(decideTests(qlf_tgf_20vs1)))\n",
        "print(summary(decideTests(qlf_d1_tgf)))\n",
        "print(summary(decideTests(qlf_d20_tgf)))"
      ],
      "metadata": {
        "colab": {
          "base_uri": "https://localhost:8080/"
        },
        "id": "mAkXiXtUlp3n",
        "outputId": "272988f7-190d-4040-e5c4-7c1b672782da"
      },
      "execution_count": null,
      "outputs": [
        {
          "output_type": "stream",
          "name": "stdout",
          "text": [
            "       -1*D1_cont 1*D20_cont\n",
            "Down                    2884\n",
            "NotSig                  6468\n",
            "Up                      3002\n",
            "       -1*D1_tgf 1*D20_tgf\n",
            "Down                  2928\n",
            "NotSig                6524\n",
            "Up                    2902\n",
            "       -1*D1_cont 1*D1_tgf\n",
            "Down                  1364\n",
            "NotSig                9665\n",
            "Up                    1325\n",
            "       -1*D20_cont 1*D20_tgf\n",
            "Down                    2469\n",
            "NotSig                  7539\n",
            "Up                      2346\n"
          ]
        }
      ]
    },
    {
      "cell_type": "markdown",
      "source": [
        "The smallest number of DE genes is found between the TGF-β-treated and untreated cells on day 1, which is expected."
      ],
      "metadata": {
        "id": "6YRlqNxzmL1V"
      }
    },
    {
      "cell_type": "code",
      "source": [
        "%%R\n",
        "qlftab_cont_20vs1 <- topTags(qlf_cont_20vs1, n=nrow(y))$table\n",
        "qlftab_tgf_20vs1 <- topTags(qlf_tgf_20vs1, n=nrow(y))$table\n",
        "qlftab_d1_tgf <- topTags(qlf_d1_tgf, n=nrow(y))$table\n",
        "qlftab_d20_tgf <- topTags(qlf_d20_tgf, n=nrow(y))$table"
      ],
      "metadata": {
        "id": "JObvFYKrmnTJ"
      },
      "execution_count": null,
      "outputs": []
    },
    {
      "cell_type": "code",
      "source": [
        "%%R\n",
        "head(qlftab_cont_20vs1)"
      ],
      "metadata": {
        "colab": {
          "base_uri": "https://localhost:8080/"
        },
        "id": "BGYQMqaZm-4x",
        "outputId": "24f08569-b5dd-4878-b694-29753013ddd0"
      },
      "execution_count": null,
      "outputs": [
        {
          "output_type": "stream",
          "name": "stdout",
          "text": [
            "              Ensembl   Symbol     logFC   logCPM        F       PValue\n",
            "6328  ENSG00000103018    CYB5B  5.912420 2.421628 596.3106 6.715974e-13\n",
            "6574  ENSG00000159625  CCDC135 -1.631513 8.349429 578.4268 8.277230e-13\n",
            "25907 ENSG00000141524     TMC6 -1.623484 8.716842 466.0209 3.632401e-12\n",
            "9700  ENSG00000023191     RNH1 -2.758252 3.685243 451.7046 4.494145e-12\n",
            "10212 ENSG00000186073 C15orf41 -1.630497 5.433907 408.9434 8.846526e-12\n",
            "991   ENSG00000142733   MAP3K6 -3.224106 5.439792 404.8024 9.480323e-12\n",
            "               FDR\n",
            "6328  5.112845e-09\n",
            "6574  5.112845e-09\n",
            "25907 1.388017e-08\n",
            "9700  1.388017e-08\n",
            "10212 1.707764e-08\n",
            "991   1.707764e-08\n"
          ]
        }
      ]
    },
    {
      "cell_type": "markdown",
      "source": [
        "Let's visualize, which DE genes are common between different comparisons"
      ],
      "metadata": {
        "id": "4fG63c6NPVYr"
      }
    },
    {
      "cell_type": "code",
      "source": [
        "%%R\n",
        "# Filter DE Genes based on FDR < 0.05 and logFC > 2\n",
        "de_genes_cont_20vs1 <- subset(qlftab_cont_20vs1, FDR < 0.05 & logFC > 1)$Symbol\n",
        "de_genes_tgf_20vs1 <- subset(qlftab_tgf_20vs1, FDR < 0.05 & logFC > 1)$Symbol\n",
        "de_genes_d1_tgf <- subset(qlftab_d1_tgf, FDR < 0.05 & logFC > 1)$Symbol\n",
        "de_genes_d20_tgf <- subset(qlftab_d20_tgf, FDR < 0.05 & logFC > 1)$Symbol\n",
        "\n",
        "# Use VennDiagram package to plot the Venn diagram\n",
        "library(VennDiagram)\n",
        "venn.plot <- venn.diagram(\n",
        "  x = list(\n",
        "    Cont_20vs1 = de_genes_cont_20vs1,\n",
        "    TGF_20vs1 = de_genes_tgf_20vs1,\n",
        "    D1_TGF = de_genes_d1_tgf,\n",
        "    D20_TGF = de_genes_d20_tgf\n",
        "  ),\n",
        "  category.names = c(\"Cont, d20 vs d1\", \"TGF, d20 vs d1\", \"D1, TGF vs Cont\", \"D20, TGF vs Cont\"),\n",
        "  filename = NULL\n",
        ")\n",
        "grid.draw(venn.plot)"
      ],
      "metadata": {
        "colab": {
          "base_uri": "https://localhost:8080/",
          "height": 566
        },
        "id": "yHmdXSvSoIIc",
        "outputId": "e35ec715-39d0-4b8a-80f7-705e159539d4"
      },
      "execution_count": null,
      "outputs": [
        {
          "output_type": "stream",
          "name": "stderr",
          "text": [
            "WARNING:rpy2.rinterface_lib.callbacks:R[write to console]: Loading required package: grid\n",
            "\n",
            "WARNING:rpy2.rinterface_lib.callbacks:R[write to console]: Loading required package: futile.logger\n",
            "\n"
          ]
        },
        {
          "output_type": "display_data",
          "data": {
            "image/png": "[encoded data removed]"
          },
          "metadata": {}
        }
      ]
    },
    {
      "cell_type": "markdown",
      "source": [
        "And now we plot a **volcano plot** for one of the comparisons! This is useful to identify genes which have both large changes in expression (large logFC) and these changes are significant (large -log10(P-value))."
      ],
      "metadata": {
        "id": "GZSHfVslPag4"
      }
    },
    {
      "cell_type": "code",
      "source": [
        "%%R\n",
        "# ad\n",
        "qlftab_tgf_20vs1$p_log10 <- -log10(qlftab_tgf_20vs1$PValue)\n",
        "\n",
        "# Identify the most DE genes: (abs(logFC)>2 and -log10P>9) or (abs(logFC)>7)\n",
        "top_genes <- qlftab_tgf_20vs1[((abs(qlftab_tgf_20vs1$logFC)>2)&(qlftab_tgf_20vs1$p_log10>9))|(abs(qlftab_tgf_20vs1$logFC)>7), ]\n",
        "\n",
        "# Plot the volcano plot\n",
        "ggplot(qlftab_tgf_20vs1, aes(x=logFC, y=p_log10)) +\n",
        "  geom_point(aes(color = (FDR < 0.05 & abs(logFC) > 2)), alpha=0.5) +\n",
        "  scale_color_manual(values = c(\"FALSE\" = \"grey\", \"TRUE\" = \"red\")) +\n",
        "  labs(x = \"Log2 Fold Change\",\n",
        "       y = \"-log10 P-value\") +\n",
        "  theme_minimal() +\n",
        "  theme(legend.title = element_blank(), legend.position = \"none\") +\n",
        "  geom_vline(xintercept = c(-2, 2), linetype = \"dashed\", color = \"blue\") +\n",
        "  geom_hline(yintercept = -log10(0.05), linetype = \"dashed\", color = \"blue\") +\n",
        "  geom_label_repel(data = top_genes,\n",
        "                  aes(label = Symbol),\n",
        "                  size = 3,\n",
        "                  box.padding = unit(0.35, \"lines\"),\n",
        "                  point.padding = unit(0.5, \"lines\"))"
      ],
      "metadata": {
        "colab": {
          "base_uri": "https://localhost:8080/",
          "height": 497
        },
        "id": "wxFZ6S6fqxal",
        "outputId": "294dabc1-6451-4e3c-f64c-dbbc24383bd6"
      },
      "execution_count": null,
      "outputs": [
        {
          "output_type": "display_data",
          "data": {
            "image/png": "[encoded data removed]"
          },
          "metadata": {}
        }
      ]
    },
    {
      "cell_type": "markdown",
      "source": [
        "Finally, we can perform gene set enrichment analysis for this comparison using clusterProfiler package"
      ],
      "metadata": {
        "id": "I4HgKradPoZy"
      }
    },
    {
      "cell_type": "code",
      "source": [
        "%%R\n",
        "suppressPackageStartupMessages({\n",
        "  library(clusterProfiler)\n",
        "  library(org.Hs.eg.db)\n",
        "})"
      ],
      "metadata": {
        "id": "eGIvd21Py8j8"
      },
      "execution_count": null,
      "outputs": []
    },
    {
      "cell_type": "code",
      "source": [
        "%%R\n",
        "geneList <- qlftab_tgf_20vs1$p_log10*sign(qlftab_tgf_20vs1$logFC)\n",
        "names(geneList) <- rownames(qlftab_tgf_20vs1)\n",
        "geneList <- sort(geneList, decreasing = TRUE)\n",
        "\n",
        "gsea_bp <- gseGO(geneList=geneList, ont=\"BP\", OrgDb=org.Hs.eg.db)"
      ],
      "metadata": {
        "colab": {
          "base_uri": "https://localhost:8080/"
        },
        "id": "00TVPWzRwi5H",
        "outputId": "d7c65a0d-6a3f-4af8-d6e6-e998118a00ad"
      },
      "execution_count": null,
      "outputs": [
        {
          "output_type": "stream",
          "name": "stderr",
          "text": [
            "WARNING:rpy2.rinterface_lib.callbacks:R[write to console]: preparing geneSet collections...\n",
            "\n",
            "WARNING:rpy2.rinterface_lib.callbacks:R[write to console]: GSEA analysis...\n",
            "\n",
            "WARNING:rpy2.rinterface_lib.callbacks:R[write to console]: leading edge analysis...\n",
            "\n",
            "WARNING:rpy2.rinterface_lib.callbacks:R[write to console]: done...\n",
            "\n"
          ]
        }
      ]
    },
    {
      "cell_type": "code",
      "source": [
        "%%R\n",
        "\n",
        "head(gsea_bp@result[, c(\"Description\", \"setSize\", \"NES\", \"p.adjust\")])"
      ],
      "metadata": {
        "colab": {
          "base_uri": "https://localhost:8080/"
        },
        "id": "IXwwNSb_0QvZ",
        "outputId": "d0e82264-fdc6-40ea-ddc3-566eb4f2d996"
      },
      "execution_count": null,
      "outputs": [
        {
          "output_type": "stream",
          "name": "stdout",
          "text": [
            "                                           Description setSize       NES\n",
            "GO:0006261               DNA-templated DNA replication     159 -2.874531\n",
            "GO:0006260                             DNA replication     270 -2.685059\n",
            "GO:0098813              nuclear chromosome segregation     267 -2.635281\n",
            "GO:0090329 regulation of DNA-templated DNA replication      54 -2.632989\n",
            "GO:0006270                  DNA replication initiation      36 -2.615843\n",
            "GO:0000070        mitotic sister chromatid segregation     192 -2.612069\n",
            "               p.adjust\n",
            "GO:0006261 8.129851e-09\n",
            "GO:0006260 8.129851e-09\n",
            "GO:0098813 8.129851e-09\n",
            "GO:0090329 8.129851e-09\n",
            "GO:0006270 8.129851e-09\n",
            "GO:0000070 8.129851e-09\n"
          ]
        }
      ]
    },
    {
      "cell_type": "code",
      "source": [
        "%%R\n",
        "dotplot(gsea_bp, showCategory=10)"
      ],
      "metadata": {
        "colab": {
          "base_uri": "https://localhost:8080/",
          "height": 497
        },
        "id": "adGqHJZ_wvhR",
        "outputId": "0ec434ce-2d4b-478b-9b37-4b7c258b559d"
      },
      "execution_count": null,
      "outputs": [
        {
          "output_type": "display_data",
          "data": {
            "image/png": "[encoded data removed]"
          },
          "metadata": {}
        }
      ]
    },
    {
      "cell_type": "markdown",
      "source": [
        "## Exercise"
      ],
      "metadata": {
        "id": "UDjl5E6VtMOB"
      }
    },
    {
      "cell_type": "markdown",
      "source": [
        "At home, perform the same analysis with the standard DESeq2 pipeline. DESeq2 documentation is very detailed: https://www.bioconductor.org/packages/release/bioc/vignettes/DESeq2/inst/doc/DESeq2.html. For each step, comment, how it relates to what we did in edgeR.\n",
        "\n",
        "You can then compare lists of differentially expressed genes between edgeR and DESeq2 using Venn diagrams or plot the p-values of different genes in edgeR and DESeq2 against each other.\n",
        "\n",
        "And feel free to ask questions! @daniilbobrovskiy"
      ],
      "metadata": {
        "id": "oUvH2AalPuvh"
      }
    },
    {
      "cell_type": "markdown",
      "source": [
        "Загружаем DESeq2 в R."
      ],
      "metadata": {
        "id": "sHSPk1qxhAqJ"
      }
    },
    {
      "cell_type": "code",
      "source": [
        "%%R\n",
        "suppressPackageStartupMessages(library(DESeq2))"
      ],
      "metadata": {
        "id": "6anqB7L_q3Bd"
      },
      "execution_count": 13,
      "outputs": []
    },
    {
      "cell_type": "markdown",
      "source": [
        "### Сделаем матрицу каунтов для DESeq2"
      ],
      "metadata": {
        "id": "9UKh-m1chFAw"
      }
    },
    {
      "cell_type": "code",
      "source": [
        "%%R\n",
        "dds <- DESeqDataSetFromMatrix(countData=counts,\n",
        "                              colData=as.data.frame(groups),\n",
        "                              design=design)\n",
        "str(dds)"
      ],
      "metadata": {
        "colab": {
          "base_uri": "https://localhost:8080/"
        },
        "id": "I9r5XHDh0Qv8",
        "outputId": "b46a90ef-21f8-4597-acfc-253e9f4f75f4"
      },
      "execution_count": 53,
      "outputs": [
        {
          "output_type": "stream",
          "name": "stderr",
          "text": [
            "WARNING:rpy2.rinterface_lib.callbacks:R[write to console]: converting counts to integer mode\n",
            "\n"
          ]
        },
        {
          "output_type": "stream",
          "name": "stdout",
          "text": [
            "Formal class 'DESeqDataSet' [package \"DESeq2\"] with 8 slots\n",
            "  ..@ design            : num [1:12, 1:4] 1 1 1 0 0 0 0 0 0 0 ...\n",
            "  .. ..- attr(*, \"dimnames\")=List of 2\n",
            "  .. .. ..$ : chr [1:12] \"1\" \"2\" \"3\" \"4\" ...\n",
            "  .. .. ..$ : chr [1:4] \"D1_cont\" \"D1_tgf\" \"D20_cont\" \"D20_tgf\"\n",
            "  .. ..- attr(*, \"assign\")= int [1:4] 1 1 1 1\n",
            "  .. ..- attr(*, \"contrasts\")=List of 1\n",
            "  .. .. ..$ groups: chr \"contr.treatment\"\n",
            "  ..@ dispersionFunction:function ()  \n",
            "  ..@ rowRanges         :Formal class 'CompressedGRangesList' [package \"GenomicRanges\"] with 5 slots\n",
            "  .. .. ..@ unlistData     :Formal class 'GRanges' [package \"GenomicRanges\"] with 7 slots\n",
            "  .. .. .. .. ..@ seqnames       :Formal class 'Rle' [package \"S4Vectors\"] with 4 slots\n",
            "  .. .. .. .. .. .. ..@ values         : Factor w/ 0 levels: \n",
            "  .. .. .. .. .. .. ..@ lengths        : int(0) \n",
            "  .. .. .. .. .. .. ..@ elementMetadata: NULL\n",
            "  .. .. .. .. .. .. ..@ metadata       : list()\n",
            "  .. .. .. .. ..@ ranges         :Formal class 'IRanges' [package \"IRanges\"] with 6 slots\n",
            "  .. .. .. .. .. .. ..@ start          : int(0) \n",
            "  .. .. .. .. .. .. ..@ width          : int(0) \n",
            "  .. .. .. .. .. .. ..@ NAMES          : NULL\n",
            "  .. .. .. .. .. .. ..@ elementType    : chr \"ANY\"\n",
            "  .. .. .. .. .. .. ..@ elementMetadata: NULL\n",
            "  .. .. .. .. .. .. ..@ metadata       : list()\n",
            "  .. .. .. .. ..@ strand         :Formal class 'Rle' [package \"S4Vectors\"] with 4 slots\n",
            "  .. .. .. .. .. .. ..@ values         : Factor w/ 3 levels \"+\",\"-\",\"*\": \n",
            "  .. .. .. .. .. .. ..@ lengths        : int(0) \n",
            "  .. .. .. .. .. .. ..@ elementMetadata: NULL\n",
            "  .. .. .. .. .. .. ..@ metadata       : list()\n",
            "  .. .. .. .. ..@ seqinfo        :Formal class 'Seqinfo' [package \"GenomeInfoDb\"] with 4 slots\n",
            "  .. .. .. .. .. .. ..@ seqnames   : chr(0) \n",
            "  .. .. .. .. .. .. ..@ seqlengths : int(0) \n",
            "  .. .. .. .. .. .. ..@ is_circular: logi(0) \n",
            "  .. .. .. .. .. .. ..@ genome     : chr(0) \n",
            "  .. .. .. .. ..@ elementMetadata:Formal class 'DFrame' [package \"S4Vectors\"] with 6 slots\n",
            "  .. .. .. .. .. .. ..@ rownames       : NULL\n",
            "  .. .. .. .. .. .. ..@ nrows          : int 0\n",
            "  .. .. .. .. .. .. ..@ elementType    : chr \"ANY\"\n",
            "  .. .. .. .. .. .. ..@ elementMetadata: NULL\n",
            "  .. .. .. .. .. .. ..@ metadata       : list()\n",
            "  .. .. .. .. .. .. ..@ listData       : Named list()\n",
            "  .. .. .. .. ..@ elementType    : chr \"ANY\"\n",
            "  .. .. .. .. ..@ metadata       : list()\n",
            "  .. .. ..@ elementMetadata:Formal class 'DFrame' [package \"S4Vectors\"] with 6 slots\n",
            "  .. .. .. .. ..@ rownames       : NULL\n",
            "  .. .. .. .. ..@ nrows          : int 19016\n",
            "  .. .. .. .. ..@ elementType    : chr \"ANY\"\n",
            "  .. .. .. .. ..@ elementMetadata:Formal class 'DFrame' [package \"S4Vectors\"] with 6 slots\n",
            "  .. .. .. .. .. .. ..@ rownames       : NULL\n",
            "  .. .. .. .. .. .. ..@ nrows          : int 0\n",
            "  .. .. .. .. .. .. ..@ elementType    : chr \"ANY\"\n",
            "  .. .. .. .. .. .. ..@ elementMetadata: NULL\n",
            "  .. .. .. .. .. .. ..@ metadata       : list()\n",
            "  .. .. .. .. .. .. ..@ listData       :List of 2\n",
            "  .. .. .. .. .. .. .. ..$ type       : chr(0) \n",
            "  .. .. .. .. .. .. .. ..$ description: chr(0) \n",
            "  .. .. .. .. ..@ metadata       : list()\n",
            "  .. .. .. .. ..@ listData       : Named list()\n",
            "  .. .. ..@ elementType    : chr \"GRanges\"\n",
            "  .. .. ..@ metadata       : list()\n",
            "  .. .. ..@ partitioning   :Formal class 'PartitioningByEnd' [package \"IRanges\"] with 5 slots\n",
            "  .. .. .. .. ..@ end            : int [1:19016] 0 0 0 0 0 0 0 0 0 0 ...\n",
            "  .. .. .. .. ..@ NAMES          : chr [1:19016] \"79501\" \"729759\" \"81399\" \"148398\" ...\n",
            "  .. .. .. .. ..@ elementType    : chr \"ANY\"\n",
            "  .. .. .. .. ..@ elementMetadata: NULL\n",
            "  .. .. .. .. ..@ metadata       : list()\n",
            "  ..@ colData           :Formal class 'DFrame' [package \"S4Vectors\"] with 6 slots\n",
            "  .. .. ..@ rownames       : chr [1:12] \"D1_cont_1\" \"D1_cont_2\" \"D1_cont_3\" \"D1_tgf_1\" ...\n",
            "  .. .. ..@ nrows          : int 12\n",
            "  .. .. ..@ elementType    : chr \"ANY\"\n",
            "  .. .. ..@ elementMetadata:Formal class 'DFrame' [package \"S4Vectors\"] with 6 slots\n",
            "  .. .. .. .. ..@ rownames       : NULL\n",
            "  .. .. .. .. ..@ nrows          : int 1\n",
            "  .. .. .. .. ..@ elementType    : chr \"ANY\"\n",
            "  .. .. .. .. ..@ elementMetadata: NULL\n",
            "  .. .. .. .. ..@ metadata       : list()\n",
            "  .. .. .. .. ..@ listData       :List of 2\n",
            "  .. .. .. .. .. ..$ type       : chr \"input\"\n",
            "  .. .. .. .. .. ..$ description: chr \"\"\n",
            "  .. .. ..@ metadata       : list()\n",
            "  .. .. ..@ listData       :List of 1\n",
            "  .. .. .. ..$ groups: chr [1:12] \"D1_cont\" \"D1_cont\" \"D1_cont\" \"D1_tgf\" ...\n",
            "  ..@ assays            :Formal class 'SimpleAssays' [package \"SummarizedExperiment\"] with 1 slot\n",
            "  .. .. ..@ data:Formal class 'SimpleList' [package \"S4Vectors\"] with 4 slots\n",
            "  .. .. .. .. ..@ listData       :List of 1\n",
            "  .. .. .. .. .. ..$ counts: int [1:19016, 1:12] 0 0 0 3 1394 164 27 12 14 234 ...\n",
            "  .. .. .. .. .. .. ..- attr(*, \"dimnames\")=List of 2\n",
            "  .. .. .. .. .. .. .. ..$ : chr [1:19016] \"79501\" \"729759\" \"81399\" \"148398\" ...\n",
            "  .. .. .. .. .. .. .. ..$ : chr [1:12] \"D1_cont_1\" \"D1_cont_2\" \"D1_cont_3\" \"D1_tgf_1\" ...\n",
            "  .. .. .. .. ..@ elementType    : chr \"ANY\"\n",
            "  .. .. .. .. ..@ elementMetadata: NULL\n",
            "  .. .. .. .. ..@ metadata       : list()\n",
            "  ..@ NAMES             : NULL\n",
            "  ..@ elementMetadata   :Formal class 'DFrame' [package \"S4Vectors\"] with 6 slots\n",
            "  .. .. ..@ rownames       : NULL\n",
            "  .. .. ..@ nrows          : int 19016\n",
            "  .. .. ..@ elementType    : chr \"ANY\"\n",
            "  .. .. ..@ elementMetadata: NULL\n",
            "  .. .. ..@ metadata       : list()\n",
            "  .. .. ..@ listData       : Named list()\n",
            "  ..@ metadata          :List of 1\n",
            "  .. ..$ version:Classes 'package_version', 'numeric_version'  hidden list of 1\n",
            "  .. .. ..$ : int [1:3] 1 38 3\n"
          ]
        }
      ]
    },
    {
      "cell_type": "code",
      "source": [
        "%%R\n",
        "head(dds)"
      ],
      "metadata": {
        "colab": {
          "base_uri": "https://localhost:8080/"
        },
        "id": "CnuFLa-oaQF9",
        "outputId": "a5d5f76b-9f8b-4bfd-f2cd-d8aa886cc2d8"
      },
      "execution_count": 59,
      "outputs": [
        {
          "output_type": "stream",
          "name": "stdout",
          "text": [
            "class: DESeqDataSet \n",
            "dim: 6 12 \n",
            "metadata(1): version\n",
            "assays(1): counts\n",
            "rownames(6): 79501 729759 ... 26155 339451\n",
            "rowData names(2): Ensembl Symbol\n",
            "colnames(12): D1_cont_1 D1_cont_2 ... D20_tgf_2 D20_tgf_3\n",
            "colData names(1): groups\n"
          ]
        }
      ]
    },
    {
      "cell_type": "markdown",
      "source": [
        "### Аннотации"
      ],
      "metadata": {
        "id": "jm9AX0LeVd02"
      }
    },
    {
      "cell_type": "code",
      "source": [
        "%%R\n",
        "annotation <- biomart[match(rownames(dds), biomart$NCBI.gene..formerly.Entrezgene..ID),]"
      ],
      "metadata": {
        "id": "US5mvbEvShwV"
      },
      "execution_count": 54,
      "outputs": []
    },
    {
      "cell_type": "code",
      "source": [
        "%%R\n",
        "all(rownames(dds) == annotation$NCBI.gene..formerly.Entrezgene..ID)"
      ],
      "metadata": {
        "colab": {
          "base_uri": "https://localhost:8080/"
        },
        "id": "LHUsNNB2Tryq",
        "outputId": "e17a2e79-0a27-482a-a569-696519d00d40"
      },
      "execution_count": 55,
      "outputs": [
        {
          "output_type": "stream",
          "name": "stdout",
          "text": [
            "[1] TRUE\n"
          ]
        }
      ]
    },
    {
      "cell_type": "code",
      "source": [
        "%%R\n",
        "featureData <- data.frame(Ensembl=ensembl, Symbol=symbol)\n",
        "mcols(dds) <- DataFrame(mcols(dds), featureData)\n",
        "#mcols(dds) <- cbind(mcols(dds), newMcols)\n",
        "head(mcols(dds))"
      ],
      "metadata": {
        "colab": {
          "base_uri": "https://localhost:8080/"
        },
        "id": "xR9V5eiLT8U7",
        "outputId": "38baef7e-60ea-4524-b3ac-5dd7ef540e5b"
      },
      "execution_count": 56,
      "outputs": [
        {
          "output_type": "stream",
          "name": "stdout",
          "text": [
            "DataFrame with 6 rows and 2 columns\n",
            "               Ensembl      Symbol\n",
            "           <character> <character>\n",
            "79501  ENSG00000186092       OR4F5\n",
            "729759 ENSG00000235249      OR4F29\n",
            "81399  ENSG00000235249      OR4F29\n",
            "148398 ENSG00000187634      SAMD11\n",
            "26155  ENSG00000188976       NOC2L\n",
            "339451 ENSG00000187961      KLHL17\n"
          ]
        }
      ]
    },
    {
      "cell_type": "markdown",
      "source": [
        "### Фильтрация против малого числа каунтов."
      ],
      "metadata": {
        "id": "UUIhjWaDhNJ8"
      }
    },
    {
      "cell_type": "code",
      "source": [
        "%%R\n",
        "smallestGroupSize <- 3\n",
        "keep <- rowSums(counts(dds) >= 10) >= smallestGroupSize\n",
        "dds_keep <- dds[keep,]\n",
        "str(dds_keep)"
      ],
      "metadata": {
        "colab": {
          "base_uri": "https://localhost:8080/"
        },
        "id": "vywCL5cXgy_s",
        "outputId": "0b54d493-6ff4-4a5e-ebfb-56c80ddab7f3"
      },
      "execution_count": 57,
      "outputs": [
        {
          "output_type": "stream",
          "name": "stdout",
          "text": [
            "Formal class 'DESeqDataSet' [package \"DESeq2\"] with 8 slots\n",
            "  ..@ design            : num [1:12, 1:4] 1 1 1 0 0 0 0 0 0 0 ...\n",
            "  .. ..- attr(*, \"dimnames\")=List of 2\n",
            "  .. .. ..$ : chr [1:12] \"1\" \"2\" \"3\" \"4\" ...\n",
            "  .. .. ..$ : chr [1:4] \"D1_cont\" \"D1_tgf\" \"D20_cont\" \"D20_tgf\"\n",
            "  .. ..- attr(*, \"assign\")= int [1:4] 1 1 1 1\n",
            "  .. ..- attr(*, \"contrasts\")=List of 1\n",
            "  .. .. ..$ groups: chr \"contr.treatment\"\n",
            "  ..@ dispersionFunction:function ()  \n",
            "  ..@ rowRanges         :Formal class 'CompressedGRangesList' [package \"GenomicRanges\"] with 5 slots\n",
            "  .. .. ..@ unlistData     :Formal class 'GRanges' [package \"GenomicRanges\"] with 7 slots\n",
            "  .. .. .. .. ..@ seqnames       :Formal class 'Rle' [package \"S4Vectors\"] with 4 slots\n",
            "  .. .. .. .. .. .. ..@ values         : Factor w/ 0 levels: \n",
            "  .. .. .. .. .. .. ..@ lengths        : int(0) \n",
            "  .. .. .. .. .. .. ..@ elementMetadata: NULL\n",
            "  .. .. .. .. .. .. ..@ metadata       : list()\n",
            "  .. .. .. .. ..@ ranges         :Formal class 'IRanges' [package \"IRanges\"] with 6 slots\n",
            "  .. .. .. .. .. .. ..@ start          : int(0) \n",
            "  .. .. .. .. .. .. ..@ width          : int(0) \n",
            "  .. .. .. .. .. .. ..@ NAMES          : NULL\n",
            "  .. .. .. .. .. .. ..@ elementType    : chr \"ANY\"\n",
            "  .. .. .. .. .. .. ..@ elementMetadata: NULL\n",
            "  .. .. .. .. .. .. ..@ metadata       : list()\n",
            "  .. .. .. .. ..@ strand         :Formal class 'Rle' [package \"S4Vectors\"] with 4 slots\n",
            "  .. .. .. .. .. .. ..@ values         : Factor w/ 3 levels \"+\",\"-\",\"*\": \n",
            "  .. .. .. .. .. .. ..@ lengths        : int(0) \n",
            "  .. .. .. .. .. .. ..@ elementMetadata: NULL\n",
            "  .. .. .. .. .. .. ..@ metadata       : list()\n",
            "  .. .. .. .. ..@ seqinfo        :Formal class 'Seqinfo' [package \"GenomeInfoDb\"] with 4 slots\n",
            "  .. .. .. .. .. .. ..@ seqnames   : chr(0) \n",
            "  .. .. .. .. .. .. ..@ seqlengths : int(0) \n",
            "  .. .. .. .. .. .. ..@ is_circular: logi(0) \n",
            "  .. .. .. .. .. .. ..@ genome     : chr(0) \n",
            "  .. .. .. .. ..@ elementMetadata:Formal class 'DFrame' [package \"S4Vectors\"] with 6 slots\n",
            "  .. .. .. .. .. .. ..@ rownames       : NULL\n",
            "  .. .. .. .. .. .. ..@ nrows          : int 0\n",
            "  .. .. .. .. .. .. ..@ elementType    : chr \"ANY\"\n",
            "  .. .. .. .. .. .. ..@ elementMetadata: NULL\n",
            "  .. .. .. .. .. .. ..@ metadata       : list()\n",
            "  .. .. .. .. .. .. ..@ listData       : Named list()\n",
            "  .. .. .. .. ..@ elementType    : chr \"ANY\"\n",
            "  .. .. .. .. ..@ metadata       : list()\n",
            "  .. .. ..@ elementMetadata:Formal class 'DFrame' [package \"S4Vectors\"] with 6 slots\n",
            "  .. .. .. .. ..@ rownames       : NULL\n",
            "  .. .. .. .. ..@ nrows          : int 12606\n",
            "  .. .. .. .. ..@ elementType    : chr \"ANY\"\n",
            "  .. .. .. .. ..@ elementMetadata:Formal class 'DFrame' [package \"S4Vectors\"] with 6 slots\n",
            "  .. .. .. .. .. .. ..@ rownames       : NULL\n",
            "  .. .. .. .. .. .. ..@ nrows          : int 2\n",
            "  .. .. .. .. .. .. ..@ elementType    : chr \"ANY\"\n",
            "  .. .. .. .. .. .. ..@ elementMetadata: NULL\n",
            "  .. .. .. .. .. .. ..@ metadata       : list()\n",
            "  .. .. .. .. .. .. ..@ listData       :List of 2\n",
            "  .. .. .. .. .. .. .. ..$ type       : logi [1:2] NA NA\n",
            "  .. .. .. .. .. .. .. ..$ description: logi [1:2] NA NA\n",
            "  .. .. .. .. ..@ metadata       : list()\n",
            "  .. .. .. .. ..@ listData       :List of 2\n",
            "  .. .. .. .. .. ..$ Ensembl: chr [1:12606] \"ENSG00000187634\" \"ENSG00000188976\" \"ENSG00000187961\" \"ENSG00000187583\" ...\n",
            "  .. .. .. .. .. ..$ Symbol : chr [1:12606] \"SAMD11\" \"NOC2L\" \"KLHL17\" \"PLEKHN1\" ...\n",
            "  .. .. ..@ elementType    : chr \"GRanges\"\n",
            "  .. .. ..@ metadata       : list()\n",
            "  .. .. ..@ partitioning   :Formal class 'PartitioningByEnd' [package \"IRanges\"] with 5 slots\n",
            "  .. .. .. .. ..@ end            : int [1:12606] 0 0 0 0 0 0 0 0 0 0 ...\n",
            "  .. .. .. .. ..@ NAMES          : chr [1:12606] \"148398\" \"26155\" \"339451\" \"84069\" ...\n",
            "  .. .. .. .. ..@ elementType    : chr \"ANY\"\n",
            "  .. .. .. .. ..@ elementMetadata: NULL\n",
            "  .. .. .. .. ..@ metadata       : list()\n",
            "  ..@ colData           :Formal class 'DFrame' [package \"S4Vectors\"] with 6 slots\n",
            "  .. .. ..@ rownames       : chr [1:12] \"D1_cont_1\" \"D1_cont_2\" \"D1_cont_3\" \"D1_tgf_1\" ...\n",
            "  .. .. ..@ nrows          : int 12\n",
            "  .. .. ..@ elementType    : chr \"ANY\"\n",
            "  .. .. ..@ elementMetadata:Formal class 'DFrame' [package \"S4Vectors\"] with 6 slots\n",
            "  .. .. .. .. ..@ rownames       : NULL\n",
            "  .. .. .. .. ..@ nrows          : int 1\n",
            "  .. .. .. .. ..@ elementType    : chr \"ANY\"\n",
            "  .. .. .. .. ..@ elementMetadata: NULL\n",
            "  .. .. .. .. ..@ metadata       : list()\n",
            "  .. .. .. .. ..@ listData       :List of 2\n",
            "  .. .. .. .. .. ..$ type       : chr \"input\"\n",
            "  .. .. .. .. .. ..$ description: chr \"\"\n",
            "  .. .. ..@ metadata       : list()\n",
            "  .. .. ..@ listData       :List of 1\n",
            "  .. .. .. ..$ groups: chr [1:12] \"D1_cont\" \"D1_cont\" \"D1_cont\" \"D1_tgf\" ...\n",
            "  ..@ assays            :Formal class 'SimpleAssays' [package \"SummarizedExperiment\"] with 1 slot\n",
            "  .. .. ..@ data:Formal class 'SimpleList' [package \"S4Vectors\"] with 4 slots\n",
            "  .. .. .. .. ..@ listData       :List of 1\n",
            "  .. .. .. .. .. ..$ counts: int [1:12606, 1:12] 3 1394 164 27 12 14 234 3626 94 2988 ...\n",
            "  .. .. .. .. .. .. ..- attr(*, \"dimnames\")=List of 2\n",
            "  .. .. .. .. .. .. .. ..$ : chr [1:12606] \"148398\" \"26155\" \"339451\" \"84069\" ...\n",
            "  .. .. .. .. .. .. .. ..$ : chr [1:12] \"D1_cont_1\" \"D1_cont_2\" \"D1_cont_3\" \"D1_tgf_1\" ...\n",
            "  .. .. .. .. ..@ elementType    : chr \"ANY\"\n",
            "  .. .. .. .. ..@ elementMetadata: NULL\n",
            "  .. .. .. .. ..@ metadata       : list()\n",
            "  ..@ NAMES             : NULL\n",
            "  ..@ elementMetadata   :Formal class 'DFrame' [package \"S4Vectors\"] with 6 slots\n",
            "  .. .. ..@ rownames       : NULL\n",
            "  .. .. ..@ nrows          : int 12606\n",
            "  .. .. ..@ elementType    : chr \"ANY\"\n",
            "  .. .. ..@ elementMetadata: NULL\n",
            "  .. .. ..@ metadata       : list()\n",
            "  .. .. ..@ listData       : Named list()\n",
            "  ..@ metadata          :List of 1\n",
            "  .. ..$ version:Classes 'package_version', 'numeric_version'  hidden list of 1\n",
            "  .. .. ..$ : int [1:3] 1 38 3\n"
          ]
        }
      ]
    },
    {
      "cell_type": "markdown",
      "source": [
        "### Проводим анализ с помощью DESeq2 (расчёт нормализации, дисперсий и статистических тестов он делает внутри себя)"
      ],
      "metadata": {
        "id": "yeTghrBRZrZR"
      }
    },
    {
      "cell_type": "code",
      "source": [
        "%%R\n",
        "res <- DESeq(dds_keep)"
      ],
      "metadata": {
        "colab": {
          "base_uri": "https://localhost:8080/"
        },
        "id": "hPtpzGRDZ2Gq",
        "outputId": "8c2c575e-7371-44af-8046-c27e69918b82"
      },
      "execution_count": 61,
      "outputs": [
        {
          "output_type": "stream",
          "name": "stderr",
          "text": [
            "WARNING:rpy2.rinterface_lib.callbacks:R[write to console]: using supplied model matrix\n",
            "\n",
            "WARNING:rpy2.rinterface_lib.callbacks:R[write to console]: estimating size factors\n",
            "\n",
            "WARNING:rpy2.rinterface_lib.callbacks:R[write to console]: estimating dispersions\n",
            "\n",
            "WARNING:rpy2.rinterface_lib.callbacks:R[write to console]: gene-wise dispersion estimates\n",
            "\n",
            "WARNING:rpy2.rinterface_lib.callbacks:R[write to console]: mean-dispersion relationship\n",
            "\n",
            "WARNING:rpy2.rinterface_lib.callbacks:R[write to console]: final dispersion estimates\n",
            "\n",
            "WARNING:rpy2.rinterface_lib.callbacks:R[write to console]: fitting model and testing\n",
            "\n"
          ]
        }
      ]
    },
    {
      "cell_type": "code",
      "source": [
        "%%R\n",
        "result <- results(res)\n",
        "head(result)"
      ],
      "metadata": {
        "colab": {
          "base_uri": "https://localhost:8080/"
        },
        "id": "QMD4K2ycbisU",
        "outputId": "04d29d34-6c62-4d0b-c0b0-5392b9ac1c15"
      },
      "execution_count": 64,
      "outputs": [
        {
          "output_type": "stream",
          "name": "stdout",
          "text": [
            "log2 fold change (MLE): D20 tgf \n",
            "Wald test p-value: D20 tgf \n",
            "DataFrame with 6 rows and 6 columns\n",
            "         baseMean log2FoldChange     lfcSE      stat       pvalue         padj\n",
            "        <numeric>      <numeric> <numeric> <numeric>    <numeric>    <numeric>\n",
            "148398   17.28364        4.49275 0.3923581  11.45062  2.33459e-30  2.47687e-30\n",
            "26155  1067.00087        9.67782 0.0604507 160.09441  0.00000e+00  0.00000e+00\n",
            "339451  154.99217        7.14559 0.1173750  60.87831  0.00000e+00  0.00000e+00\n",
            "84069    34.58942        5.11230 0.2150821  23.76909 6.97542e-125 8.00858e-125\n",
            "84808     8.02696        2.53814 0.4533447   5.59870  2.15968e-08  2.18447e-08\n",
            "57801    16.01470        2.90233 0.4243425   6.83959  7.94216e-12  8.09829e-12\n"
          ]
        }
      ]
    },
    {
      "cell_type": "code",
      "source": [
        "%%R\n",
        "summary(result)"
      ],
      "metadata": {
        "colab": {
          "base_uri": "https://localhost:8080/"
        },
        "id": "ajT-TqU9b6EU",
        "outputId": "27bdf6c3-76e1-4373-dfcc-f08b4b9f6e41"
      },
      "execution_count": 73,
      "outputs": [
        {
          "output_type": "stream",
          "name": "stdout",
          "text": [
            "\n",
            "out of 12606 with nonzero total read count\n",
            "adjusted p-value < 0.1\n",
            "LFC > 0 (up)       : 12589, 100%\n",
            "LFC < 0 (down)     : 0, 0%\n",
            "outliers [1]       : 2, 0.016%\n",
            "low counts [2]     : 0, 0%\n",
            "(mean count < 4)\n",
            "[1] see 'cooksCutoff' argument of ?results\n",
            "[2] see 'independentFiltering' argument of ?results\n",
            "\n"
          ]
        }
      ]
    },
    {
      "cell_type": "markdown",
      "source": [
        "### Визуализация с помощью графиков"
      ],
      "metadata": {
        "id": "XMXjmgifdTcL"
      }
    },
    {
      "cell_type": "code",
      "source": [
        "%%R\n",
        "\n",
        "par(mfrow=c(1,1))\n",
        "# Make a basic volcano plot\n",
        "with(result, plot(log2FoldChange, -log10(pvalue), pch=20, main=\"Volcano plot\"))\n",
        "\n",
        "# Add colored points: blue if padj<0.01, red if log2FC>1 and padj<0.05)\n",
        "with(subset(result, padj<.01 ), points(log2FoldChange, -log10(pvalue), pch=20, col=\"blue\"))\n",
        "with(subset(result, padj<.01 & abs(log2FoldChange)>2), points(log2FoldChange, -log10(pvalue), pch=20, col=\"red\"))"
      ],
      "metadata": {
        "colab": {
          "base_uri": "https://localhost:8080/",
          "height": 497
        },
        "id": "mz0cygNWcNw_",
        "outputId": "fd74d376-90e2-4665-ab82-31f73aefcd94"
      },
      "execution_count": 70,
      "outputs": [
        {
          "output_type": "display_data",
          "data": {
            "image/png": "[encoded data removed]"
          },
          "metadata": {}
        }
      ]
    }
  ],
  "metadata": {
    "colab": {
      "provenance": [],
      "collapsed_sections": [
        "tSlTmvwbcsGR"
      ]
    },
    "kernelspec": {
      "display_name": "Python 3",
      "name": "python3"
    },
    "language_info": {
      "name": "python"
    }
  },
  "nbformat": 4,
  "nbformat_minor": 0
}