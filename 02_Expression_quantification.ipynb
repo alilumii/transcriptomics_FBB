{
  "cells": [
    {
      "cell_type": "markdown",
      "source": [
        "# Workshop #2. Expression quantification"
      ],
      "metadata": {
        "id": "P9qI5J1zktKQ"
      }
    },
    {
      "cell_type": "markdown",
      "source": [
        "Firstly, let's create set of transcripts with different elements that would generate reads with length equal to one letter. Also let's create some random number of each transcript's molecules."
      ],
      "metadata": {
        "id": "XMUoZHN2UY2N"
      }
    },
    {
      "cell_type": "code",
      "source": [
        "import random\n",
        "import numpy as np\n",
        "\n",
        "seed = 10\n",
        "\n",
        "transcripts = [\n",
        "    \"ABCDEZQ\",\n",
        "    \"DEFHI\",\n",
        "    \"GHIL\",\n",
        "    \"KLONPQST\",\n",
        "    \"PQRSTUW\",\n",
        "]\n",
        "\n",
        "random.seed(seed)\n",
        "n_molecules = [random.randint(30, 1000) for i in transcripts]\n",
        "abundance_ground_truth = np.array(\n",
        "    [n_molecules[i] / sum(n_molecules) for i in range(len(n_molecules))]\n",
        ")\n",
        "\n",
        "print(\"\\n\".join([\n",
        "    f\"{transcripts[i]}: {n_molecules[i]} ({(abundance_ground_truth[i] * 100):.2f}%)\"\n",
        "    for i in range(len(n_molecules))\n",
        "]))"
      ],
      "metadata": {
        "id": "PAqbWKzsk-JX",
        "colab": {
          "base_uri": "https://localhost:8080/"
        },
        "outputId": "194a6215-dee8-4572-cd57-67320b6d5917"
      },
      "execution_count": null,
      "outputs": [
        {
          "output_type": "stream",
          "name": "stdout",
          "text": [
            "ABCDEZQ: 615 (26.83%)\n",
            "DEFHI: 63 (2.75%)\n",
            "GHIL: 469 (20.46%)\n",
            "KLONPQST: 524 (22.86%)\n",
            "PQRSTUW: 621 (27.09%)\n"
          ]
        }
      ]
    },
    {
      "cell_type": "markdown",
      "source": [
        "Next, let's generate random reads from these transcripts."
      ],
      "metadata": {
        "id": "e57w_AHxUzw4"
      }
    },
    {
      "cell_type": "code",
      "source": [
        "frac_reads = 0.1\n",
        "\n",
        "random.seed(seed)\n",
        "letters_pool = \"\".join([\n",
        "    transcripts[i] * n_molecules[i]\n",
        "    for i in range(len(transcripts))\n",
        "])\n",
        "reads = random.sample(letters_pool, int(frac_reads * len(letters_pool)))\n",
        "print(f\"We have {frac_reads * 100}% of transcripts in our pool ({len(reads)})\")"
      ],
      "metadata": {
        "colab": {
          "base_uri": "https://localhost:8080/"
        },
        "id": "DuO5CgHVUzAs",
        "outputId": "27a7d87a-b77f-4af9-88d0-cd11e47e4974"
      },
      "execution_count": null,
      "outputs": [
        {
          "output_type": "stream",
          "name": "stdout",
          "text": [
            "We have 10.0% of transcripts in our pool (1503)\n"
          ]
        }
      ]
    },
    {
      "cell_type": "markdown",
      "source": [
        "So, let's continue with the EM algorithm to estimate original abundance of different transcripts."
      ],
      "metadata": {
        "id": "r8UAxif2XJsG"
      }
    },
    {
      "cell_type": "code",
      "source": [
        "def EM(transcripts, reads):\n",
        "  # Works for an example with k = 1 and read_length = 1 — the simplest case\n",
        "\n",
        "  length = np.array([len(i) for i in transcripts])\n",
        "  length_factors = length / min(length)\n",
        "\n",
        "  # Transcripts counts estimation\n",
        "  def expectation(transcripts, reads, abundance):\n",
        "    counts = np.zeros(len(transcripts))\n",
        "    for i, read in enumerate(reads):\n",
        "      equivalence_class = np.array([\n",
        "          read in transcript for transcript in transcripts\n",
        "      ]) # From which transcript our read might be?\n",
        "      counts[equivalence_class] += (\n",
        "          abundance[equivalence_class] / sum(abundance[equivalence_class])\n",
        "      ) # Add fraction of the read to the transcripts according their abundances\n",
        "\n",
        "    counts = np.round(counts, 3)\n",
        "    return counts\n",
        "\n",
        "  # Abundances maximization\n",
        "  def maximization(counts, length_factors):\n",
        "    abundance = (counts / sum(counts)) / length_factors # Taking into account\n",
        "    # length factor\n",
        "    abundance = abundance / sum(abundance)\n",
        "    return abundance\n",
        "\n",
        "  # Initianion\n",
        "  abundance = np.ones(len(transcripts)) / len(transcripts) # Equal amount\n",
        "  counts = expectation(transcripts, reads, abundance)\n",
        "\n",
        "  # EM steps\n",
        "  prev_counts = np.zeros(len(transcripts))\n",
        "  step = 0\n",
        "  while list(prev_counts) != list(counts): # Until convergence\n",
        "    step += 1\n",
        "    prev_counts = counts.copy()\n",
        "    abundance = maximization(counts, length_factors)\n",
        "    counts = expectation(transcripts, reads, abundance)\n",
        "\n",
        "  return (abundance, counts, step)"
      ],
      "metadata": {
        "id": "9I_wGUIEV949"
      },
      "execution_count": null,
      "outputs": []
    },
    {
      "cell_type": "markdown",
      "source": [
        "And let's test our algorithm!"
      ],
      "metadata": {
        "id": "l656yMvde5I_"
      }
    },
    {
      "cell_type": "code",
      "source": [
        "abundance, counts, step = EM(transcripts, reads)\n",
        "\n",
        "print(\"Differences in abundance (in %):\")\n",
        "print((abundance - abundance_ground_truth) * 100)"
      ],
      "metadata": {
        "colab": {
          "base_uri": "https://localhost:8080/"
        },
        "id": "Pv3RMEY4bCln",
        "outputId": "9cc48e98-cbf7-4e4f-c075-8968091088d7"
      },
      "execution_count": null,
      "outputs": [
        {
          "output_type": "stream",
          "name": "stdout",
          "text": [
            "Differences in abundance (in %):\n",
            "[-0.30047529 -1.00559749 -0.57102735  1.21407655  0.66302358]\n"
          ]
        }
      ]
    },
    {
      "cell_type": "markdown",
      "source": [
        "And now, let's try to do the same calculation with `kallisto`. At the beginning, let's generate pseudo-transcripts and pseudo-reads."
      ],
      "metadata": {
        "id": "M9Wtewb-g2yU"
      }
    },
    {
      "cell_type": "code",
      "source": [
        "read_length = 50\n",
        "\n",
        "random.seed(seed)\n",
        "blocks_sequences = dict(zip(set(\"\".join(transcripts)), [\n",
        "    \"\".join([np.random.choice(list(\"ATGC\")) for i in range(read_length)])\n",
        "    for j in set(\"\".join(transcripts))\n",
        "]))\n",
        "\n",
        "transcript_sequences = dict(zip(transcripts, [\n",
        "    \"\".join([\n",
        "        blocks_sequences[block] for block in transcript\n",
        "    ]) for transcript in transcripts\n",
        "]))\n",
        "\n",
        "with open(\"reference.fasta\", \"w\") as f:\n",
        "  for transcript in transcript_sequences:\n",
        "    f.write(f\">{transcript}\\n{transcript_sequences[transcript]}\\n\")\n",
        "\n",
        "with open(\"reads.fastq\", \"w\") as f:\n",
        "  for i, read in enumerate(reads):\n",
        "    f.write(f\"@Read_{i}\\n{blocks_sequences[read]}\\n+\\n{'I' * read_length}\\n\")"
      ],
      "metadata": {
        "id": "a5rJh6hGfYOK"
      },
      "execution_count": null,
      "outputs": []
    },
    {
      "cell_type": "markdown",
      "source": [
        "And let's launch `kallisto`. Firstly, let's install the tool."
      ],
      "metadata": {
        "id": "siJxU2f1jnh4"
      }
    },
    {
      "cell_type": "code",
      "source": [
        "!git clone https://github.com/pachterlab/kallisto.git\n",
        "!apt-get install autoconf\n",
        "!cd kallisto && mkdir build && cd build && cmake .. && make"
      ],
      "metadata": {
        "id": "wpJkjS6lhEVQ"
      },
      "execution_count": null,
      "outputs": []
    },
    {
      "cell_type": "markdown",
      "source": [
        "Second, let's generate the reference index."
      ],
      "metadata": {
        "id": "d87hS97nkFfV"
      }
    },
    {
      "cell_type": "code",
      "source": [
        "!./kallisto/build/src/kallisto index -i reference.idx reference.fasta"
      ],
      "metadata": {
        "id": "XBJo76IvhRkZ",
        "colab": {
          "base_uri": "https://localhost:8080/"
        },
        "outputId": "4ef6f02a-e9e9-4739-a163-45a632f83877"
      },
      "execution_count": null,
      "outputs": [
        {
          "output_type": "stream",
          "name": "stdout",
          "text": [
            "\n",
            "[build] loading fasta file reference.fasta\n",
            "[build] k-mer length: 31\n",
            "KmerStream::KmerStream(): Start computing k-mer cardinality estimations (1/2)\n",
            "KmerStream::KmerStream(): Start computing k-mer cardinality estimations (1/2)\n",
            "KmerStream::KmerStream(): Finished\n",
            "CompactedDBG::build(): Estimated number of k-mers occurring at least once: 1062\n",
            "CompactedDBG::build(): Estimated number of minimizer occurring at least once: 300\n",
            "CompactedDBG::filter(): Processed 1400 k-mers in 5 reads\n",
            "CompactedDBG::filter(): Found 1077 unique k-mers\n",
            "CompactedDBG::filter(): Number of blocks in Bloom filter is 9\n",
            "CompactedDBG::construct(): Extract approximate unitigs (1/2)\n",
            "CompactedDBG::construct(): Extract approximate unitigs (2/2)\n",
            "CompactedDBG::construct(): Closed all input files\n",
            "\n",
            "CompactedDBG::construct(): Splitting unitigs (1/2)\n",
            "\n",
            "CompactedDBG::construct(): Splitting unitigs (2/2)\n",
            "CompactedDBG::construct(): Before split: 11 unitigs\n",
            "CompactedDBG::construct(): After split (1/1): 11 unitigs\n",
            "CompactedDBG::construct(): Unitigs split: 0\n",
            "CompactedDBG::construct(): Unitigs deleted: 0\n",
            "\n",
            "CompactedDBG::construct(): Joining unitigs\n",
            "CompactedDBG::construct(): After join: 11 unitigs\n",
            "CompactedDBG::construct(): Joined 0 unitigs\n",
            "[build] building MPHF\n",
            "[build] creating equivalence classes ... \n",
            "[build] target de Bruijn graph has k-mer length 31 and minimizer length 23\n",
            "[build] target de Bruijn graph has 11 contigs and contains 1078 k-mers \n",
            "\n"
          ]
        }
      ]
    },
    {
      "cell_type": "markdown",
      "source": [
        "After, let's estimate abundances."
      ],
      "metadata": {
        "id": "XF7ntLrwkqUg"
      }
    },
    {
      "cell_type": "code",
      "source": [
        "!./kallisto/build/src/kallisto quant -i reference.idx -o results --single -l 50 -s 1 reads.fastq"
      ],
      "metadata": {
        "id": "yBaVVbO4kunq",
        "colab": {
          "base_uri": "https://localhost:8080/"
        },
        "outputId": "83e11e8e-fa39-4809-9e36-1a1e41f2e3bd"
      },
      "execution_count": null,
      "outputs": [
        {
          "output_type": "stream",
          "name": "stdout",
          "text": [
            "\n",
            "[quant] fragment length distribution is truncated gaussian with mean = 50, sd = 1\n",
            "[index] k-mer length: 31\n",
            "[index] number of targets: 5\n",
            "[index] number of k-mers: 1,078\n",
            "[quant] running in single-end mode\n",
            "[quant] will process file 1: reads.fastq\n",
            "[quant] finding pseudoalignments for the reads ... done\n",
            "[quant] processed 1,503 reads, 1,426 reads pseudoaligned\n",
            "[   em] quantifying the abundances ... done\n",
            "[   em] the Expectation-Maximization algorithm ran for 52 rounds\n",
            "\n"
          ]
        }
      ]
    },
    {
      "cell_type": "markdown",
      "source": [
        "And finally, let's compare the results."
      ],
      "metadata": {
        "id": "em4pJsermcK9"
      }
    },
    {
      "cell_type": "code",
      "source": [
        "import pandas as pd\n",
        "\n",
        "kallisto_results = pd.read_csv(\"results/abundance.tsv\", sep=\"\\t\")\n",
        "kallisto_abundances = kallisto_results.tpm / kallisto_results.tpm.sum()\n",
        "\n",
        "pd.DataFrame({\n",
        "    \"Difference true — kallisto (%)\": list((abundance_ground_truth - kallisto_abundances) * 100),\n",
        "    \"Difference true — our (%)\": list((abundance_ground_truth - abundance) * 100)\n",
        "}, index=transcript_sequences.keys())"
      ],
      "metadata": {
        "colab": {
          "base_uri": "https://localhost:8080/",
          "height": 206
        },
        "id": "0NG0eMxJlDOW",
        "outputId": "61c3f122-48a6-4845-b73a-717677bbde7f"
      },
      "execution_count": null,
      "outputs": [
        {
          "output_type": "execute_result",
          "data": {
            "text/plain": [
              "          Difference true — kallisto (%)  Difference true — our (%)\n",
              "ABCDEZQ                         2.508253                   0.300475\n",
              "DEFHI                           1.397121                   1.005597\n",
              "GHIL                            1.836073                   0.571027\n",
              "KLONPQST                       -3.345079                  -1.214077\n",
              "PQRSTUW                        -2.396368                  -0.663024"
            ],
            "text/html": [
              "\n",
              "  <div id=\"df-af5dffa0-7eaa-4e70-a702-37ae09ef6247\" class=\"colab-df-container\">\n",
              "    <div>\n",
              "<style scoped>\n",
              "    .dataframe tbody tr th:only-of-type {\n",
              "        vertical-align: middle;\n",
              "    }\n",
              "\n",
              "    .dataframe tbody tr th {\n",
              "        vertical-align: top;\n",
              "    }\n",
              "\n",
              "    .dataframe thead th {\n",
              "        text-align: right;\n",
              "    }\n",
              "</style>\n",
              "<table border=\"1\" class=\"dataframe\">\n",
              "  <thead>\n",
              "    <tr style=\"text-align: right;\">\n",
              "      <th></th>\n",
              "      <th>Difference true — kallisto (%)</th>\n",
              "      <th>Difference true — our (%)</th>\n",
              "    </tr>\n",
              "  </thead>\n",
              "  <tbody>\n",
              "    <tr>\n",
              "      <th>ABCDEZQ</th>\n",
              "      <td>2.508253</td>\n",
              "      <td>0.300475</td>\n",
              "    </tr>\n",
              "    <tr>\n",
              "      <th>DEFHI</th>\n",
              "      <td>1.397121</td>\n",
              "      <td>1.005597</td>\n",
              "    </tr>\n",
              "    <tr>\n",
              "      <th>GHIL</th>\n",
              "      <td>1.836073</td>\n",
              "      <td>0.571027</td>\n",
              "    </tr>\n",
              "    <tr>\n",
              "      <th>KLONPQST</th>\n",
              "      <td>-3.345079</td>\n",
              "      <td>-1.214077</td>\n",
              "    </tr>\n",
              "    <tr>\n",
              "      <th>PQRSTUW</th>\n",
              "      <td>-2.396368</td>\n",
              "      <td>-0.663024</td>\n",
              "    </tr>\n",
              "  </tbody>\n",
              "</table>\n",
              "</div>\n",
              "    <div class=\"colab-df-buttons\">\n",
              "\n",
              "  <div class=\"colab-df-container\">\n",
              "    <button class=\"colab-df-convert\" onclick=\"convertToInteractive('df-af5dffa0-7eaa-4e70-a702-37ae09ef6247')\"\n",
              "            title=\"Convert this dataframe to an interactive table.\"\n",
              "            style=\"display:none;\">\n",
              "\n",
              "  <svg xmlns=\"http://www.w3.org/2000/svg\" height=\"24px\" viewBox=\"0 -960 960 960\">\n",
              "    <path d=\"M120-120v-720h720v720H120Zm60-500h600v-160H180v160Zm220 220h160v-160H400v160Zm0 220h160v-160H400v160ZM180-400h160v-160H180v160Zm440 0h160v-160H620v160ZM180-180h160v-160H180v160Zm440 0h160v-160H620v160Z\"/>\n",
              "  </svg>\n",
              "    </button>\n",
              "\n",
              "  <style>\n",
              "    .colab-df-container {\n",
              "      display:flex;\n",
              "      gap: 12px;\n",
              "    }\n",
              "\n",
              "    .colab-df-convert {\n",
              "      background-color: #E8F0FE;\n",
              "      border: none;\n",
              "      border-radius: 50%;\n",
              "      cursor: pointer;\n",
              "      display: none;\n",
              "      fill: #1967D2;\n",
              "      height: 32px;\n",
              "      padding: 0 0 0 0;\n",
              "      width: 32px;\n",
              "    }\n",
              "\n",
              "    .colab-df-convert:hover {\n",
              "      background-color: #E2EBFA;\n",
              "      box-shadow: 0px 1px 2px rgba(60, 64, 67, 0.3), 0px 1px 3px 1px rgba(60, 64, 67, 0.15);\n",
              "      fill: #174EA6;\n",
              "    }\n",
              "\n",
              "    .colab-df-buttons div {\n",
              "      margin-bottom: 4px;\n",
              "    }\n",
              "\n",
              "    [theme=dark] .colab-df-convert {\n",
              "      background-color: #3B4455;\n",
              "      fill: #D2E3FC;\n",
              "    }\n",
              "\n",
              "    [theme=dark] .colab-df-convert:hover {\n",
              "      background-color: #434B5C;\n",
              "      box-shadow: 0px 1px 3px 1px rgba(0, 0, 0, 0.15);\n",
              "      filter: drop-shadow(0px 1px 2px rgba(0, 0, 0, 0.3));\n",
              "      fill: #FFFFFF;\n",
              "    }\n",
              "  </style>\n",
              "\n",
              "    <script>\n",
              "      const buttonEl =\n",
              "        document.querySelector('#df-af5dffa0-7eaa-4e70-a702-37ae09ef6247 button.colab-df-convert');\n",
              "      buttonEl.style.display =\n",
              "        google.colab.kernel.accessAllowed ? 'block' : 'none';\n",
              "\n",
              "      async function convertToInteractive(key) {\n",
              "        const element = document.querySelector('#df-af5dffa0-7eaa-4e70-a702-37ae09ef6247');\n",
              "        const dataTable =\n",
              "          await google.colab.kernel.invokeFunction('convertToInteractive',\n",
              "                                                    [key], {});\n",
              "        if (!dataTable) return;\n",
              "\n",
              "        const docLinkHtml = 'Like what you see? Visit the ' +\n",
              "          '<a target=\"_blank\" href=https://colab.research.google.com/notebooks/data_table.ipynb>data table notebook</a>'\n",
              "          + ' to learn more about interactive tables.';\n",
              "        element.innerHTML = '';\n",
              "        dataTable['output_type'] = 'display_data';\n",
              "        await google.colab.output.renderOutput(dataTable, element);\n",
              "        const docLink = document.createElement('div');\n",
              "        docLink.innerHTML = docLinkHtml;\n",
              "        element.appendChild(docLink);\n",
              "      }\n",
              "    </script>\n",
              "  </div>\n",
              "\n",
              "\n",
              "<div id=\"df-25f8ef82-39f8-4e0b-9f1b-6f51d565870e\">\n",
              "  <button class=\"colab-df-quickchart\" onclick=\"quickchart('df-25f8ef82-39f8-4e0b-9f1b-6f51d565870e')\"\n",
              "            title=\"Suggest charts\"\n",
              "            style=\"display:none;\">\n",
              "\n",
              "<svg xmlns=\"http://www.w3.org/2000/svg\" height=\"24px\"viewBox=\"0 0 24 24\"\n",
              "     width=\"24px\">\n",
              "    <g>\n",
              "        <path d=\"M19 3H5c-1.1 0-2 .9-2 2v14c0 1.1.9 2 2 2h14c1.1 0 2-.9 2-2V5c0-1.1-.9-2-2-2zM9 17H7v-7h2v7zm4 0h-2V7h2v10zm4 0h-2v-4h2v4z\"/>\n",
              "    </g>\n",
              "</svg>\n",
              "  </button>\n",
              "\n",
              "<style>\n",
              "  .colab-df-quickchart {\n",
              "      --bg-color: #E8F0FE;\n",
              "      --fill-color: #1967D2;\n",
              "      --hover-bg-color: #E2EBFA;\n",
              "      --hover-fill-color: #174EA6;\n",
              "      --disabled-fill-color: #AAA;\n",
              "      --disabled-bg-color: #DDD;\n",
              "  }\n",
              "\n",
              "  [theme=dark] .colab-df-quickchart {\n",
              "      --bg-color: #3B4455;\n",
              "      --fill-color: #D2E3FC;\n",
              "      --hover-bg-color: #434B5C;\n",
              "      --hover-fill-color: #FFFFFF;\n",
              "      --disabled-bg-color: #3B4455;\n",
              "      --disabled-fill-color: #666;\n",
              "  }\n",
              "\n",
              "  .colab-df-quickchart {\n",
              "    background-color: var(--bg-color);\n",
              "    border: none;\n",
              "    border-radius: 50%;\n",
              "    cursor: pointer;\n",
              "    display: none;\n",
              "    fill: var(--fill-color);\n",
              "    height: 32px;\n",
              "    padding: 0;\n",
              "    width: 32px;\n",
              "  }\n",
              "\n",
              "  .colab-df-quickchart:hover {\n",
              "    background-color: var(--hover-bg-color);\n",
              "    box-shadow: 0 1px 2px rgba(60, 64, 67, 0.3), 0 1px 3px 1px rgba(60, 64, 67, 0.15);\n",
              "    fill: var(--button-hover-fill-color);\n",
              "  }\n",
              "\n",
              "  .colab-df-quickchart-complete:disabled,\n",
              "  .colab-df-quickchart-complete:disabled:hover {\n",
              "    background-color: var(--disabled-bg-color);\n",
              "    fill: var(--disabled-fill-color);\n",
              "    box-shadow: none;\n",
              "  }\n",
              "\n",
              "  .colab-df-spinner {\n",
              "    border: 2px solid var(--fill-color);\n",
              "    border-color: transparent;\n",
              "    border-bottom-color: var(--fill-color);\n",
              "    animation:\n",
              "      spin 1s steps(1) infinite;\n",
              "  }\n",
              "\n",
              "  @keyframes spin {\n",
              "    0% {\n",
              "      border-color: transparent;\n",
              "      border-bottom-color: var(--fill-color);\n",
              "      border-left-color: var(--fill-color);\n",
              "    }\n",
              "    20% {\n",
              "      border-color: transparent;\n",
              "      border-left-color: var(--fill-color);\n",
              "      border-top-color: var(--fill-color);\n",
              "    }\n",
              "    30% {\n",
              "      border-color: transparent;\n",
              "      border-left-color: var(--fill-color);\n",
              "      border-top-color: var(--fill-color);\n",
              "      border-right-color: var(--fill-color);\n",
              "    }\n",
              "    40% {\n",
              "      border-color: transparent;\n",
              "      border-right-color: var(--fill-color);\n",
              "      border-top-color: var(--fill-color);\n",
              "    }\n",
              "    60% {\n",
              "      border-color: transparent;\n",
              "      border-right-color: var(--fill-color);\n",
              "    }\n",
              "    80% {\n",
              "      border-color: transparent;\n",
              "      border-right-color: var(--fill-color);\n",
              "      border-bottom-color: var(--fill-color);\n",
              "    }\n",
              "    90% {\n",
              "      border-color: transparent;\n",
              "      border-bottom-color: var(--fill-color);\n",
              "    }\n",
              "  }\n",
              "</style>\n",
              "\n",
              "  <script>\n",
              "    async function quickchart(key) {\n",
              "      const quickchartButtonEl =\n",
              "        document.querySelector('#' + key + ' button');\n",
              "      quickchartButtonEl.disabled = true;  // To prevent multiple clicks.\n",
              "      quickchartButtonEl.classList.add('colab-df-spinner');\n",
              "      try {\n",
              "        const charts = await google.colab.kernel.invokeFunction(\n",
              "            'suggestCharts', [key], {});\n",
              "      } catch (error) {\n",
              "        console.error('Error during call to suggestCharts:', error);\n",
              "      }\n",
              "      quickchartButtonEl.classList.remove('colab-df-spinner');\n",
              "      quickchartButtonEl.classList.add('colab-df-quickchart-complete');\n",
              "    }\n",
              "    (() => {\n",
              "      let quickchartButtonEl =\n",
              "        document.querySelector('#df-25f8ef82-39f8-4e0b-9f1b-6f51d565870e button');\n",
              "      quickchartButtonEl.style.display =\n",
              "        google.colab.kernel.accessAllowed ? 'block' : 'none';\n",
              "    })();\n",
              "  </script>\n",
              "</div>\n",
              "    </div>\n",
              "  </div>\n"
            ],
            "application/vnd.google.colaboratory.intrinsic+json": {
              "type": "dataframe",
              "summary": "{\n  \"name\": \"}, index=transcript_sequences\",\n  \"rows\": 5,\n  \"fields\": [\n    {\n      \"column\": \"Difference true \\u2014 kallisto (%)\",\n      \"properties\": {\n        \"dtype\": \"number\",\n        \"std\": 2.6714497644085466,\n        \"min\": -3.3450787173106984,\n        \"max\": 2.508253435722102,\n        \"num_unique_values\": 5,\n        \"samples\": [\n          1.397120694005318,\n          -2.396368009486316,\n          1.8360725970695961\n        ],\n        \"semantic_type\": \"\",\n        \"description\": \"\"\n      }\n    },\n    {\n      \"column\": \"Difference true \\u2014 our (%)\",\n      \"properties\": {\n        \"dtype\": \"number\",\n        \"std\": 0.9139428411037953,\n        \"min\": -1.2140765484238898,\n        \"max\": 1.005597486796671,\n        \"num_unique_values\": 5,\n        \"samples\": [\n          1.005597486796671,\n          -0.6630235770189841,\n          0.5710273483677419\n        ],\n        \"semantic_type\": \"\",\n        \"description\": \"\"\n      }\n    }\n  ]\n}"
            }
          },
          "metadata": {},
          "execution_count": 9
        }
      ]
    },
    {
      "cell_type": "markdown",
      "source": [
        "Интрепретация результатов:\n",
        "\n",
        "\n",
        "*   Различия, полученные у kallisto, больше, чем при ЕМ.\n",
        "*   kallisto ошибся сильнее, чем обычный EM-алгоритм, судя по большим различиям с данными ниже.\n",
        "\n",
        "**Прочтения с их количественной оценкой:**\n",
        "\n",
        "*   ABCDEZQ: 615 (26.83%)\n",
        "*   DEFHI: 63 (2.75%)\n",
        "*   GHIL: 469 (20.46%)\n",
        "*   KLONPQST: 524 (22.86%)\n",
        "*   PQRSTUW: 621 (27.09%)\n",
        "\n"
      ],
      "metadata": {
        "id": "mfmut5OGs2WA"
      }
    }
  ],
  "metadata": {
    "colab": {
      "provenance": []
    },
    "kernelspec": {
      "display_name": "Python 3",
      "name": "python3"
    },
    "language_info": {
      "name": "python"
    }
  },
  "nbformat": 4,
  "nbformat_minor": 0
}