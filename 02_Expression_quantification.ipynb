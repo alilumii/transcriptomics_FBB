{
  "cells": [
    {
      "cell_type": "markdown",
      "metadata": {
        "id": "P9qI5J1zktKQ"
      },
      "source": [
        "# Workshop #2. Expression quantification"
      ]
    },
    {
      "cell_type": "markdown",
      "metadata": {
        "id": "XMUoZHN2UY2N"
      },
      "source": [
        "Firstly, let's create set of transcripts with different elements that would generate reads with length equal to one letter. Also let's create some random number of each transcript's molecules."
      ]
    },
    {
      "cell_type": "code",
      "execution_count": null,
      "metadata": {
        "colab": {
          "base_uri": "https://localhost:8080/"
        },
        "id": "PAqbWKzsk-JX",
        "outputId": "726d0f3a-4082-498b-8167-230f015e84fb"
      },
      "outputs": [
        {
          "name": "stdout",
          "output_type": "stream",
          "text": [
            "ABCDEZQ: 615 (26.83%)\n",
            "DEFHI: 63 (2.75%)\n",
            "GHIL: 469 (20.46%)\n",
            "KLONPQST: 524 (22.86%)\n",
            "PQRSTUW: 621 (27.09%)\n"
          ]
        }
      ],
      "source": [
        "import random\n",
        "import numpy as np\n",
        "\n",
        "seed = 10\n",
        "\n",
        "transcripts = [\n",
        "    \"ABCDEZQ\",\n",
        "    \"DEFHI\",\n",
        "    \"GHIL\",\n",
        "    \"KLONPQST\",\n",
        "    \"PQRSTUW\",\n",
        "]\n",
        "\n",
        "random.seed(seed)\n",
        "n_molecules = [random.randint(30, 1000) for i in transcripts]\n",
        "abundance_ground_truth = np.array(\n",
        "    [n_molecules[i] / sum(n_molecules) for i in range(len(n_molecules))]\n",
        ")\n",
        "\n",
        "print(\"\\n\".join([\n",
        "    f\"{transcripts[i]}: {n_molecules[i]} ({(abundance_ground_truth[i] * 100):.2f}%)\"\n",
        "    for i in range(len(n_molecules))\n",
        "]))"
      ]
    },
    {
      "cell_type": "markdown",
      "metadata": {
        "id": "e57w_AHxUzw4"
      },
      "source": [
        "Next, let's generate random reads from these transcripts."
      ]
    },
    {
      "cell_type": "code",
      "execution_count": null,
      "metadata": {
        "colab": {
          "base_uri": "https://localhost:8080/"
        },
        "id": "DuO5CgHVUzAs",
        "outputId": "e2ed4622-b579-4249-e216-89b392d74780"
      },
      "outputs": [
        {
          "name": "stdout",
          "output_type": "stream",
          "text": [
            "We have 10.0% of transcripts in our pool (1503)\n"
          ]
        }
      ],
      "source": [
        "frac_reads = 0.1\n",
        "\n",
        "random.seed(seed)\n",
        "letters_pool = \"\".join([\n",
        "    transcripts[i] * n_molecules[i]\n",
        "    for i in range(len(transcripts))\n",
        "])\n",
        "reads = random.sample(letters_pool, int(frac_reads * len(letters_pool)))\n",
        "print(f\"We have {frac_reads * 100}% of transcripts in our pool ({len(reads)})\")"
      ]
    },
    {
      "cell_type": "markdown",
      "metadata": {
        "id": "r8UAxif2XJsG"
      },
      "source": [
        "So, let's continue with the EM algorithm to estimate original abundance of different transcripts."
      ]
    },
    {
      "cell_type": "code",
      "execution_count": null,
      "metadata": {
        "id": "9I_wGUIEV949"
      },
      "outputs": [],
      "source": [
        "def EM(transcripts, reads):\n",
        "  # Works for an example with k = 1 and read_length = 1 — the simplest case\n",
        "\n",
        "  length = np.array([len(i) for i in transcripts])\n",
        "  length_factors = length / min(length)\n",
        "\n",
        "  # Transcripts counts estimation\n",
        "  def expectation(transcripts, reads, abundance):\n",
        "    counts = np.zeros(len(transcripts))\n",
        "    for i, read in enumerate(reads):\n",
        "      equivalence_class = np.array([\n",
        "          read in transcript for transcript in transcripts\n",
        "      ]) # From which transcript our read might be?\n",
        "      counts[equivalence_class] += (\n",
        "          abundance[equivalence_class] / sum(abundance[equivalence_class])\n",
        "      ) # Add fraction of the read to the transcripts according their abundances\n",
        "\n",
        "    counts = np.round(counts, 3)\n",
        "    return counts\n",
        "\n",
        "  # Abundances maximization\n",
        "  def maximization(counts, length_factors):\n",
        "    abundance = (counts / sum(counts)) / length_factors # Taking into account\n",
        "    # length factor\n",
        "    abundance = abundance / sum(abundance)\n",
        "    return abundance\n",
        "\n",
        "  # Initianion\n",
        "  abundance = np.ones(len(transcripts)) / len(transcripts) # Equal amount\n",
        "  counts = expectation(transcripts, reads, abundance)\n",
        "\n",
        "  # EM steps\n",
        "  prev_counts = np.zeros(len(transcripts))\n",
        "  step = 0\n",
        "  while list(prev_counts) != list(counts): # Until convergence\n",
        "    step += 1\n",
        "    prev_counts = counts.copy()\n",
        "    abundance = maximization(counts, length_factors)\n",
        "    counts = expectation(transcripts, reads, abundance)\n",
        "\n",
        "  return (abundance, counts, step)"
      ]
    },
    {
      "cell_type": "markdown",
      "metadata": {
        "id": "l656yMvde5I_"
      },
      "source": [
        "And let's test our algorithm!"
      ]
    },
    {
      "cell_type": "code",
      "execution_count": null,
      "metadata": {
        "colab": {
          "base_uri": "https://localhost:8080/"
        },
        "id": "Pv3RMEY4bCln",
        "outputId": "dfee1bc3-6b5b-4ad4-d071-0ca430987dd3"
      },
      "outputs": [
        {
          "name": "stdout",
          "output_type": "stream",
          "text": [
            "Differences in abundance (in %):\n",
            "[-0.30047529 -1.00559749 -0.57102735  1.21407655  0.66302358]\n"
          ]
        }
      ],
      "source": [
        "abundance, counts, step = EM(transcripts, reads)\n",
        "\n",
        "print(\"Differences in abundance (in %):\")\n",
        "print((abundance - abundance_ground_truth) * 100)"
      ]
    },
    {
      "cell_type": "code",
      "execution_count": null,
      "metadata": {
        "colab": {
          "base_uri": "https://localhost:8080/"
        },
        "id": "Czv0KDnGZNgz",
        "outputId": "f8626119-ad99-4ee5-9e94-992a7cc6567b"
      },
      "outputs": [
        {
          "data": {
            "text/plain": [
              "array([422.358,  19.82 , 180.942, 438.017, 441.863])"
            ]
          },
          "execution_count": 11,
          "metadata": {},
          "output_type": "execute_result"
        }
      ],
      "source": [
        "counts"
      ]
    },
    {
      "cell_type": "markdown",
      "metadata": {
        "id": "M9Wtewb-g2yU"
      },
      "source": [
        "And now, let's try to do the same calculation with `kallisto`. At the beginning, let's generate pseudo-transcripts and pseudo-reads."
      ]
    },
    {
      "cell_type": "code",
      "execution_count": null,
      "metadata": {
        "id": "a5rJh6hGfYOK"
      },
      "outputs": [],
      "source": [
        "read_length = 50\n",
        "\n",
        "random.seed(seed)\n",
        "blocks_sequences = dict(zip(set(\"\".join(transcripts)), [\n",
        "    \"\".join([np.random.choice(list(\"ATGC\")) for i in range(read_length)])\n",
        "    for j in set(\"\".join(transcripts))\n",
        "]))\n",
        "\n",
        "transcript_sequences = dict(zip(transcripts, [\n",
        "    \"\".join([\n",
        "        blocks_sequences[block] for block in transcript\n",
        "    ]) for transcript in transcripts\n",
        "]))\n",
        "\n",
        "with open(\"reference.fasta\", \"w\") as f:\n",
        "  for transcript in transcript_sequences:\n",
        "    f.write(f\">{transcript}\\n{transcript_sequences[transcript]}\\n\")\n",
        "\n",
        "with open(\"reads.fastq\", \"w\") as f:\n",
        "  for i, read in enumerate(reads):\n",
        "    f.write(f\"@Read_{i}\\n{blocks_sequences[read]}\\n+\\n{'I' * read_length}\\n\")"
      ]
    },
    {
      "cell_type": "markdown",
      "metadata": {
        "id": "siJxU2f1jnh4"
      },
      "source": [
        "And let's launch `kallisto`. Firstly, let's install the tool."
      ]
    },
    {
      "cell_type": "code",
      "execution_count": null,
      "metadata": {
        "id": "wpJkjS6lhEVQ"
      },
      "outputs": [],
      "source": [
        "!git clone https://github.com/pachterlab/kallisto.git\n",
        "!apt-get install autoconf\n",
        "!cd kallisto && mkdir build && cd build && cmake .. && make"
      ]
    },
    {
      "cell_type": "markdown",
      "metadata": {
        "id": "d87hS97nkFfV"
      },
      "source": [
        "Second, let's generate the reference index."
      ]
    },
    {
      "cell_type": "code",
      "execution_count": null,
      "metadata": {
        "colab": {
          "base_uri": "https://localhost:8080/"
        },
        "id": "XBJo76IvhRkZ",
        "outputId": "8fda759e-7006-4408-849c-ab4d984f9187"
      },
      "outputs": [
        {
          "name": "stdout",
          "output_type": "stream",
          "text": [
            "\n",
            "[build] loading fasta file reference.fasta\n",
            "[build] k-mer length: 31\n",
            "KmerStream::KmerStream(): Start computing k-mer cardinality estimations (1/2)\n",
            "KmerStream::KmerStream(): Start computing k-mer cardinality estimations (1/2)\n",
            "KmerStream::KmerStream(): Finished\n",
            "CompactedDBG::build(): Estimated number of k-mers occurring at least once: 1120\n",
            "CompactedDBG::build(): Estimated number of minimizer occurring at least once: 244\n",
            "CompactedDBG::filter(): Processed 1400 k-mers in 5 reads\n",
            "CompactedDBG::filter(): Found 1080 unique k-mers\n",
            "CompactedDBG::filter(): Number of blocks in Bloom filter is 9\n",
            "CompactedDBG::construct(): Extract approximate unitigs (1/2)\n",
            "CompactedDBG::construct(): Extract approximate unitigs (2/2)\n",
            "CompactedDBG::construct(): Closed all input files\n",
            "\n",
            "CompactedDBG::construct(): Splitting unitigs (1/2)\n",
            "\n",
            "CompactedDBG::construct(): Splitting unitigs (2/2)\n",
            "CompactedDBG::construct(): Before split: 11 unitigs\n",
            "CompactedDBG::construct(): After split (1/1): 11 unitigs\n",
            "CompactedDBG::construct(): Unitigs split: 0\n",
            "CompactedDBG::construct(): Unitigs deleted: 0\n",
            "\n",
            "CompactedDBG::construct(): Joining unitigs\n",
            "CompactedDBG::construct(): After join: 11 unitigs\n",
            "CompactedDBG::construct(): Joined 0 unitigs\n",
            "[build] building MPHF\n",
            "[build] creating equivalence classes ... \n",
            "[build] target de Bruijn graph has k-mer length 31 and minimizer length 23\n",
            "[build] target de Bruijn graph has 11 contigs and contains 1080 k-mers \n",
            "\n"
          ]
        }
      ],
      "source": [
        "!./kallisto/build/src/kallisto index -i reference.idx reference.fasta"
      ]
    },
    {
      "cell_type": "markdown",
      "metadata": {
        "id": "XF7ntLrwkqUg"
      },
      "source": [
        "After, let's estimate abundances."
      ]
    },
    {
      "cell_type": "code",
      "execution_count": null,
      "metadata": {
        "colab": {
          "base_uri": "https://localhost:8080/"
        },
        "id": "yBaVVbO4kunq",
        "outputId": "b700ef3c-d036-4523-8b0c-929de72c59d5"
      },
      "outputs": [
        {
          "name": "stdout",
          "output_type": "stream",
          "text": [
            "\n",
            "[quant] fragment length distribution is truncated gaussian with mean = 50, sd = 1\n",
            "[index] k-mer length: 31\n",
            "[index] number of targets: 5\n",
            "[index] number of k-mers: 1,080\n",
            "[quant] running in single-end mode\n",
            "[quant] will process file 1: reads.fastq\n",
            "[quant] finding pseudoalignments for the reads ... done\n",
            "[quant] processed 1,503 reads, 1,426 reads pseudoaligned\n",
            "[   em] quantifying the abundances ... done\n",
            "[   em] the Expectation-Maximization algorithm ran for 52 rounds\n",
            "\n"
          ]
        }
      ],
      "source": [
        "!./kallisto/build/src/kallisto quant -i reference.idx -o results --single -l 50 -s 1 reads.fastq"
      ]
    },
    {
      "cell_type": "markdown",
      "metadata": {
        "id": "em4pJsermcK9"
      },
      "source": [
        "And finally, let's compare the results."
      ]
    },
    {
      "cell_type": "code",
      "execution_count": null,
      "metadata": {
        "colab": {
          "base_uri": "https://localhost:8080/",
          "height": 206
        },
        "id": "0NG0eMxJlDOW",
        "outputId": "8627034e-9c8e-4127-adfb-69bbc564e028"
      },
      "outputs": [
        {
          "data": {
            "application/vnd.google.colaboratory.intrinsic+json": {
              "summary": "{\n  \"name\": \"}, index=transcript_sequences\",\n  \"rows\": 5,\n  \"fields\": [\n    {\n      \"column\": \"Difference true \\u2014 kallisto (%)\",\n      \"properties\": {\n        \"dtype\": \"number\",\n        \"std\": 2.6714497644085466,\n        \"min\": -3.3450787173106984,\n        \"max\": 2.508253435722102,\n        \"num_unique_values\": 5,\n        \"samples\": [\n          1.397120694005318,\n          -2.396368009486316,\n          1.8360725970695961\n        ],\n        \"semantic_type\": \"\",\n        \"description\": \"\"\n      }\n    },\n    {\n      \"column\": \"Difference true \\u2014 our (%)\",\n      \"properties\": {\n        \"dtype\": \"number\",\n        \"std\": 0.9139428411037953,\n        \"min\": -1.2140765484238898,\n        \"max\": 1.005597486796671,\n        \"num_unique_values\": 5,\n        \"samples\": [\n          1.005597486796671,\n          -0.6630235770189841,\n          0.5710273483677419\n        ],\n        \"semantic_type\": \"\",\n        \"description\": \"\"\n      }\n    }\n  ]\n}",
              "type": "dataframe"
            },
            "text/html": [
              "\n",
              "  <div id=\"df-cca0e140-bb52-4f6a-a4f2-68c9d41a60c5\" class=\"colab-df-container\">\n",
              "    <div>\n",
              "<style scoped>\n",
              "    .dataframe tbody tr th:only-of-type {\n",
              "        vertical-align: middle;\n",
              "    }\n",
              "\n",
              "    .dataframe tbody tr th {\n",
              "        vertical-align: top;\n",
              "    }\n",
              "\n",
              "    .dataframe thead th {\n",
              "        text-align: right;\n",
              "    }\n",
              "</style>\n",
              "<table border=\"1\" class=\"dataframe\">\n",
              "  <thead>\n",
              "    <tr style=\"text-align: right;\">\n",
              "      <th></th>\n",
              "      <th>Difference true — kallisto (%)</th>\n",
              "      <th>Difference true — our (%)</th>\n",
              "    </tr>\n",
              "  </thead>\n",
              "  <tbody>\n",
              "    <tr>\n",
              "      <th>ABCDEZQ</th>\n",
              "      <td>2.508253</td>\n",
              "      <td>0.300475</td>\n",
              "    </tr>\n",
              "    <tr>\n",
              "      <th>DEFHI</th>\n",
              "      <td>1.397121</td>\n",
              "      <td>1.005597</td>\n",
              "    </tr>\n",
              "    <tr>\n",
              "      <th>GHIL</th>\n",
              "      <td>1.836073</td>\n",
              "      <td>0.571027</td>\n",
              "    </tr>\n",
              "    <tr>\n",
              "      <th>KLONPQST</th>\n",
              "      <td>-3.345079</td>\n",
              "      <td>-1.214077</td>\n",
              "    </tr>\n",
              "    <tr>\n",
              "      <th>PQRSTUW</th>\n",
              "      <td>-2.396368</td>\n",
              "      <td>-0.663024</td>\n",
              "    </tr>\n",
              "  </tbody>\n",
              "</table>\n",
              "</div>\n",
              "    <div class=\"colab-df-buttons\">\n",
              "\n",
              "  <div class=\"colab-df-container\">\n",
              "    <button class=\"colab-df-convert\" onclick=\"convertToInteractive('df-cca0e140-bb52-4f6a-a4f2-68c9d41a60c5')\"\n",
              "            title=\"Convert this dataframe to an interactive table.\"\n",
              "            style=\"display:none;\">\n",
              "\n",
              "  <svg xmlns=\"http://www.w3.org/2000/svg\" height=\"24px\" viewBox=\"0 -960 960 960\">\n",
              "    <path d=\"M120-120v-720h720v720H120Zm60-500h600v-160H180v160Zm220 220h160v-160H400v160Zm0 220h160v-160H400v160ZM180-400h160v-160H180v160Zm440 0h160v-160H620v160ZM180-180h160v-160H180v160Zm440 0h160v-160H620v160Z\"/>\n",
              "  </svg>\n",
              "    </button>\n",
              "\n",
              "  <style>\n",
              "    .colab-df-container {\n",
              "      display:flex;\n",
              "      gap: 12px;\n",
              "    }\n",
              "\n",
              "    .colab-df-convert {\n",
              "      background-color: #E8F0FE;\n",
              "      border: none;\n",
              "      border-radius: 50%;\n",
              "      cursor: pointer;\n",
              "      display: none;\n",
              "      fill: #1967D2;\n",
              "      height: 32px;\n",
              "      padding: 0 0 0 0;\n",
              "      width: 32px;\n",
              "    }\n",
              "\n",
              "    .colab-df-convert:hover {\n",
              "      background-color: #E2EBFA;\n",
              "      box-shadow: 0px 1px 2px rgba(60, 64, 67, 0.3), 0px 1px 3px 1px rgba(60, 64, 67, 0.15);\n",
              "      fill: #174EA6;\n",
              "    }\n",
              "\n",
              "    .colab-df-buttons div {\n",
              "      margin-bottom: 4px;\n",
              "    }\n",
              "\n",
              "    [theme=dark] .colab-df-convert {\n",
              "      background-color: #3B4455;\n",
              "      fill: #D2E3FC;\n",
              "    }\n",
              "\n",
              "    [theme=dark] .colab-df-convert:hover {\n",
              "      background-color: #434B5C;\n",
              "      box-shadow: 0px 1px 3px 1px rgba(0, 0, 0, 0.15);\n",
              "      filter: drop-shadow(0px 1px 2px rgba(0, 0, 0, 0.3));\n",
              "      fill: #FFFFFF;\n",
              "    }\n",
              "  </style>\n",
              "\n",
              "    <script>\n",
              "      const buttonEl =\n",
              "        document.querySelector('#df-cca0e140-bb52-4f6a-a4f2-68c9d41a60c5 button.colab-df-convert');\n",
              "      buttonEl.style.display =\n",
              "        google.colab.kernel.accessAllowed ? 'block' : 'none';\n",
              "\n",
              "      async function convertToInteractive(key) {\n",
              "        const element = document.querySelector('#df-cca0e140-bb52-4f6a-a4f2-68c9d41a60c5');\n",
              "        const dataTable =\n",
              "          await google.colab.kernel.invokeFunction('convertToInteractive',\n",
              "                                                    [key], {});\n",
              "        if (!dataTable) return;\n",
              "\n",
              "        const docLinkHtml = 'Like what you see? Visit the ' +\n",
              "          '<a target=\"_blank\" href=https://colab.research.google.com/notebooks/data_table.ipynb>data table notebook</a>'\n",
              "          + ' to learn more about interactive tables.';\n",
              "        element.innerHTML = '';\n",
              "        dataTable['output_type'] = 'display_data';\n",
              "        await google.colab.output.renderOutput(dataTable, element);\n",
              "        const docLink = document.createElement('div');\n",
              "        docLink.innerHTML = docLinkHtml;\n",
              "        element.appendChild(docLink);\n",
              "      }\n",
              "    </script>\n",
              "  </div>\n",
              "\n",
              "\n",
              "<div id=\"df-62099f48-6d52-4eec-b46a-7f0a7cbae264\">\n",
              "  <button class=\"colab-df-quickchart\" onclick=\"quickchart('df-62099f48-6d52-4eec-b46a-7f0a7cbae264')\"\n",
              "            title=\"Suggest charts\"\n",
              "            style=\"display:none;\">\n",
              "\n",
              "<svg xmlns=\"http://www.w3.org/2000/svg\" height=\"24px\"viewBox=\"0 0 24 24\"\n",
              "     width=\"24px\">\n",
              "    <g>\n",
              "        <path d=\"M19 3H5c-1.1 0-2 .9-2 2v14c0 1.1.9 2 2 2h14c1.1 0 2-.9 2-2V5c0-1.1-.9-2-2-2zM9 17H7v-7h2v7zm4 0h-2V7h2v10zm4 0h-2v-4h2v4z\"/>\n",
              "    </g>\n",
              "</svg>\n",
              "  </button>\n",
              "\n",
              "<style>\n",
              "  .colab-df-quickchart {\n",
              "      --bg-color: #E8F0FE;\n",
              "      --fill-color: #1967D2;\n",
              "      --hover-bg-color: #E2EBFA;\n",
              "      --hover-fill-color: #174EA6;\n",
              "      --disabled-fill-color: #AAA;\n",
              "      --disabled-bg-color: #DDD;\n",
              "  }\n",
              "\n",
              "  [theme=dark] .colab-df-quickchart {\n",
              "      --bg-color: #3B4455;\n",
              "      --fill-color: #D2E3FC;\n",
              "      --hover-bg-color: #434B5C;\n",
              "      --hover-fill-color: #FFFFFF;\n",
              "      --disabled-bg-color: #3B4455;\n",
              "      --disabled-fill-color: #666;\n",
              "  }\n",
              "\n",
              "  .colab-df-quickchart {\n",
              "    background-color: var(--bg-color);\n",
              "    border: none;\n",
              "    border-radius: 50%;\n",
              "    cursor: pointer;\n",
              "    display: none;\n",
              "    fill: var(--fill-color);\n",
              "    height: 32px;\n",
              "    padding: 0;\n",
              "    width: 32px;\n",
              "  }\n",
              "\n",
              "  .colab-df-quickchart:hover {\n",
              "    background-color: var(--hover-bg-color);\n",
              "    box-shadow: 0 1px 2px rgba(60, 64, 67, 0.3), 0 1px 3px 1px rgba(60, 64, 67, 0.15);\n",
              "    fill: var(--button-hover-fill-color);\n",
              "  }\n",
              "\n",
              "  .colab-df-quickchart-complete:disabled,\n",
              "  .colab-df-quickchart-complete:disabled:hover {\n",
              "    background-color: var(--disabled-bg-color);\n",
              "    fill: var(--disabled-fill-color);\n",
              "    box-shadow: none;\n",
              "  }\n",
              "\n",
              "  .colab-df-spinner {\n",
              "    border: 2px solid var(--fill-color);\n",
              "    border-color: transparent;\n",
              "    border-bottom-color: var(--fill-color);\n",
              "    animation:\n",
              "      spin 1s steps(1) infinite;\n",
              "  }\n",
              "\n",
              "  @keyframes spin {\n",
              "    0% {\n",
              "      border-color: transparent;\n",
              "      border-bottom-color: var(--fill-color);\n",
              "      border-left-color: var(--fill-color);\n",
              "    }\n",
              "    20% {\n",
              "      border-color: transparent;\n",
              "      border-left-color: var(--fill-color);\n",
              "      border-top-color: var(--fill-color);\n",
              "    }\n",
              "    30% {\n",
              "      border-color: transparent;\n",
              "      border-left-color: var(--fill-color);\n",
              "      border-top-color: var(--fill-color);\n",
              "      border-right-color: var(--fill-color);\n",
              "    }\n",
              "    40% {\n",
              "      border-color: transparent;\n",
              "      border-right-color: var(--fill-color);\n",
              "      border-top-color: var(--fill-color);\n",
              "    }\n",
              "    60% {\n",
              "      border-color: transparent;\n",
              "      border-right-color: var(--fill-color);\n",
              "    }\n",
              "    80% {\n",
              "      border-color: transparent;\n",
              "      border-right-color: var(--fill-color);\n",
              "      border-bottom-color: var(--fill-color);\n",
              "    }\n",
              "    90% {\n",
              "      border-color: transparent;\n",
              "      border-bottom-color: var(--fill-color);\n",
              "    }\n",
              "  }\n",
              "</style>\n",
              "\n",
              "  <script>\n",
              "    async function quickchart(key) {\n",
              "      const quickchartButtonEl =\n",
              "        document.querySelector('#' + key + ' button');\n",
              "      quickchartButtonEl.disabled = true;  // To prevent multiple clicks.\n",
              "      quickchartButtonEl.classList.add('colab-df-spinner');\n",
              "      try {\n",
              "        const charts = await google.colab.kernel.invokeFunction(\n",
              "            'suggestCharts', [key], {});\n",
              "      } catch (error) {\n",
              "        console.error('Error during call to suggestCharts:', error);\n",
              "      }\n",
              "      quickchartButtonEl.classList.remove('colab-df-spinner');\n",
              "      quickchartButtonEl.classList.add('colab-df-quickchart-complete');\n",
              "    }\n",
              "    (() => {\n",
              "      let quickchartButtonEl =\n",
              "        document.querySelector('#df-62099f48-6d52-4eec-b46a-7f0a7cbae264 button');\n",
              "      quickchartButtonEl.style.display =\n",
              "        google.colab.kernel.accessAllowed ? 'block' : 'none';\n",
              "    })();\n",
              "  </script>\n",
              "</div>\n",
              "    </div>\n",
              "  </div>\n"
            ],
            "text/plain": [
              "          Difference true — kallisto (%)  Difference true — our (%)\n",
              "ABCDEZQ                         2.508253                   0.300475\n",
              "DEFHI                           1.397121                   1.005597\n",
              "GHIL                            1.836073                   0.571027\n",
              "KLONPQST                       -3.345079                  -1.214077\n",
              "PQRSTUW                        -2.396368                  -0.663024"
            ]
          },
          "execution_count": 10,
          "metadata": {},
          "output_type": "execute_result"
        }
      ],
      "source": [
        "import pandas as pd\n",
        "\n",
        "kallisto_results = pd.read_csv(\"results/abundance.tsv\", sep=\"\\t\")\n",
        "kallisto_abundances = kallisto_results.tpm / kallisto_results.tpm.sum()\n",
        "\n",
        "pd.DataFrame({\n",
        "    \"Difference true — kallisto (%)\": list((abundance_ground_truth - kallisto_abundances) * 100),\n",
        "    \"Difference true — our (%)\": list((abundance_ground_truth - abundance) * 100)\n",
        "}, index=transcript_sequences.keys())"
      ]
    },
    {
      "cell_type": "markdown",
      "metadata": {
        "id": "Dzup0qAwFn-T"
      },
      "source": [
        "\n",
        "\n",
        "```\n",
        "# Выбран кодовый формат\n",
        "```\n",
        "\n",
        "# Hometask"
      ]
    },
    {
      "cell_type": "markdown",
      "metadata": {
        "id": "T8riDzPOFtPh"
      },
      "source": [
        "## Task 1\n",
        "\n",
        "Please, provide an example where even EM-based algorithm estimates expression wrong. Describe in which exact cases it might happens."
      ]
    },
    {
      "cell_type": "markdown",
      "metadata": {
        "id": "kLa5vRxcaDPP"
      },
      "source": [
        "Например, могут быть слишком большие каунты у одного транскрипта (выброс), или может быть шум в данных, или нет данных для транскриптов, если были ошибки в эксперименте."
      ]
    },
    {
      "cell_type": "code",
      "execution_count": null,
      "metadata": {
        "colab": {
          "base_uri": "https://localhost:8080/"
        },
        "id": "X6sQ0l18FuDy",
        "outputId": "2a6ba36f-58e9-49a2-c2ca-6bfe81e22121"
      },
      "outputs": [
        {
          "name": "stdout",
          "output_type": "stream",
          "text": [
            "ABCDEZQ: 910 (7.65%)\n",
            "DEFHI: 172 (1.45%)\n",
            "GHIL: 10000 (84.07%)\n",
            "KLONPQST: 393 (3.30%)\n",
            "PQRSTUW: 420 (3.53%)\n"
          ]
        },
        {
          "data": {
            "text/plain": [
              "array([0.07650273, 0.01445986, 0.84068937, 0.03303909, 0.03530895])"
            ]
          },
          "execution_count": 17,
          "metadata": {},
          "output_type": "execute_result"
        }
      ],
      "source": [
        "n_molecules = [random.randint(30, 1000) for i in transcripts]\n",
        "n_molecules[2] = 10000\n",
        "abundance_ground_truth = np.array(\n",
        "    [n_molecules[i] / sum(n_molecules) for i in range(len(n_molecules))]\n",
        ")\n",
        "\n",
        "print(\"\\n\".join([\n",
        "    f\"{transcripts[i]}: {n_molecules[i]} ({(abundance_ground_truth[i] * 100):.2f}%)\"\n",
        "    for i in range(len(n_molecules))\n",
        "]))"
      ]
    },
    {
      "cell_type": "code",
      "execution_count": null,
      "metadata": {
        "colab": {
          "base_uri": "https://localhost:8080/"
        },
        "id": "-r2ootHlb8uf",
        "outputId": "b13fb889-e6ad-4ee1-ae78-95bcc8b395c3"
      },
      "outputs": [
        {
          "name": "stdout",
          "output_type": "stream",
          "text": [
            "We have 10.0% of transcripts in our pool (5331)\n"
          ]
        }
      ],
      "source": [
        "frac_reads = 0.1\n",
        "\n",
        "random.seed(seed)\n",
        "letters_pool = \"\".join([\n",
        "    transcripts[i] * n_molecules[i]\n",
        "    for i in range(len(transcripts))\n",
        "])\n",
        "reads = random.sample(letters_pool, int(frac_reads * len(letters_pool)))\n",
        "print(f\"We have {frac_reads * 100}% of transcripts in our pool ({len(reads)})\")"
      ]
    },
    {
      "cell_type": "code",
      "execution_count": null,
      "metadata": {
        "colab": {
          "base_uri": "https://localhost:8080/"
        },
        "id": "h5gswAngbui-",
        "outputId": "d5d825c2-e9c6-461e-8218-457222d1a2c1"
      },
      "outputs": [
        {
          "name": "stdout",
          "output_type": "stream",
          "text": [
            "Differences in abundance (in %):\n",
            "[-0.15933083 -0.12831402  0.22051113  0.21428775 -0.14715403]\n"
          ]
        }
      ],
      "source": [
        "abundance, counts, step = EM(transcripts, reads)\n",
        "\n",
        "print(\"Differences in abundance (in %):\")\n",
        "print((abundance - abundance_ground_truth) * 100)"
      ]
    },
    {
      "cell_type": "code",
      "execution_count": null,
      "metadata": {
        "colab": {
          "base_uri": "https://localhost:8080/"
        },
        "id": "-YA8muLocE8c",
        "outputId": "f45377bc-a209-49da-95f1-f62e1f542703"
      },
      "outputs": [
        {
          "data": {
            "text/plain": [
              "array([ 623.952,   78.396, 4011.898,  334.909,  281.846])"
            ]
          },
          "execution_count": 20,
          "metadata": {},
          "output_type": "execute_result"
        }
      ],
      "source": [
        "counts"
      ]
    },
    {
      "cell_type": "markdown",
      "metadata": {
        "id": "bfJfyJ4GFvIW"
      },
      "source": [
        "## Task 2\n",
        "\n",
        "Using [recount3](https://rna.recount.bio/), find any available RNA-Seq dataset (only one sample will be enough) with already estimated expressions at the level of gene counts. Re-estimate the expressions with `kallisto` and compare the results (at the gene level)."
      ]
    },
    {
      "cell_type": "code",
      "execution_count": null,
      "metadata": {
        "id": "f3H6YzRjzUlg"
      },
      "outputs": [],
      "source": [
        "# меняла среду выполнения с python на R\n",
        "\n",
        "if (!require(\"BiocManager\", quietly = TRUE))\n",
        "    install.packages(\"BiocManager\")\n",
        "BiocManager::install(version = \"3.19\")"
      ]
    },
    {
      "cell_type": "code",
      "execution_count": null,
      "metadata": {
        "id": "ueg4Tdxo0BtN"
      },
      "outputs": [],
      "source": [
        "BiocManager::install(\"recount3\")"
      ]
    },
    {
      "cell_type": "code",
      "execution_count": null,
      "metadata": {
        "colab": {
          "background_save": true
        },
        "id": "VuY6B7EzzC3e"
      },
      "outputs": [],
      "source": [
        "library(stringr)\n",
        "library(dplyr)\n",
        "library(recount3)"
      ]
    },
    {
      "cell_type": "code",
      "execution_count": null,
      "metadata": {
        "colab": {
          "background_save": true,
          "base_uri": "https://localhost:8080/"
        },
        "collapsed": true,
        "id": "sffUG0H-FxUp",
        "outputId": "fb0f0c77-d727-47c3-9caa-30e6c1cde644"
      },
      "outputs": [
        {
          "name": "stderr",
          "output_type": "stream",
          "text": [
            "2024-05-31 14:26:34.098515 downloading and reading the metadata.\n",
            "\n",
            "2024-05-31 14:26:35.264968 caching file sra.sra.SRP033365.MD.gz.\n",
            "\n",
            "2024-05-31 14:26:35.817214 caching file sra.recount_project.SRP033365.MD.gz.\n",
            "\n",
            "2024-05-31 14:26:36.325915 caching file sra.recount_qc.SRP033365.MD.gz.\n",
            "\n",
            "2024-05-31 14:26:36.855448 caching file sra.recount_seq_qc.SRP033365.MD.gz.\n",
            "\n",
            "2024-05-31 14:26:37.384561 caching file sra.recount_pred.SRP033365.MD.gz.\n",
            "\n",
            "2024-05-31 14:26:37.493962 downloading and reading the feature information.\n",
            "\n",
            "2024-05-31 14:26:37.926098 caching file human.gene_sums.G026.gtf.gz.\n",
            "\n",
            "2024-05-31 14:26:38.63321 downloading and reading the counts: 1 sample across 63856 features.\n",
            "\n",
            "2024-05-31 14:26:39.123643 caching file sra.gene_sums.SRP033365.G026.gz.\n",
            "\n",
            "2024-05-31 14:26:39.368708 constructing the RangedSummarizedExperiment (rse) object.\n",
            "\n"
          ]
        }
      ],
      "source": [
        "project <- create_rse_manual(\n",
        "    project = \"SRP033365\",\n",
        "    project_home = \"data_sources/sra\",\n",
        "    organism = \"human\",\n",
        "    annotation = \"gencode_v26\",\n",
        "    type = \"gene\"\n",
        ")"
      ]
    },
    {
      "cell_type": "code",
      "execution_count": null,
      "metadata": {
        "colab": {
          "base_uri": "https://localhost:8080/",
          "height": 191
        },
        "id": "dctwxhWm_eOf",
        "outputId": "987c920b-26bf-4ae7-f313-021efa8675db"
      },
      "outputs": [
        {
          "data": {
            "text/plain": [
              "class: RangedSummarizedExperiment \n",
              "dim: 63856 1 \n",
              "metadata(8): time_created recount3_version ... annotation recount3_url\n",
              "assays(1): raw_counts\n",
              "rownames(63856): ENSG00000278704.1 ENSG00000277400.1 ...\n",
              "  ENSG00000182484.15_PAR_Y ENSG00000227159.8_PAR_Y\n",
              "rowData names(10): source type ... havana_gene tag\n",
              "colnames(1): SRR1039806\n",
              "colData names(175): rail_id external_id ...\n",
              "  recount_pred.curated.cell_line BigWigURL"
            ]
          },
          "metadata": {},
          "output_type": "display_data"
        }
      ],
      "source": [
        "project"
      ]
    },
    {
      "cell_type": "code",
      "execution_count": null,
      "metadata": {
        "id": "wO5kcG21Q2qB"
      },
      "outputs": [],
      "source": [
        "library(\"R.utils\")"
      ]
    },
    {
      "cell_type": "code",
      "execution_count": null,
      "metadata": {
        "colab": {
          "base_uri": "https://localhost:8080/",
          "height": 104
        },
        "id": "WdPmnTV6Mnr-",
        "outputId": "93f29249-246b-4494-d52d-4d72220fb31b"
      },
      "outputs": [
        {
          "data": {
            "text/html": [
              "<style>\n",
              ".dl-inline {width: auto; margin:0; padding: 0}\n",
              ".dl-inline>dt, .dl-inline>dd {float: none; width: auto; display: inline-block}\n",
              ".dl-inline>dt::after {content: \":\\0020\"; padding-right: .5ex}\n",
              ".dl-inline>dt:not(:first-of-type) {padding-left: .5ex}\n",
              "</style><dl class=dl-inline><dt>sra.sra.SRP033365.MD.gz</dt><dd>'http://duffel.rail.bio/recount3/human/data_sources/sra/metadata/65/SRP033365/sra.sra.SRP033365.MD.gz'</dd><dt>sra.recount_project.SRP033365.MD.gz</dt><dd>'http://duffel.rail.bio/recount3/human/data_sources/sra/metadata/65/SRP033365/sra.recount_project.SRP033365.MD.gz'</dd><dt>sra.recount_qc.SRP033365.MD.gz</dt><dd>'http://duffel.rail.bio/recount3/human/data_sources/sra/metadata/65/SRP033365/sra.recount_qc.SRP033365.MD.gz'</dd><dt>sra.recount_seq_qc.SRP033365.MD.gz</dt><dd>'http://duffel.rail.bio/recount3/human/data_sources/sra/metadata/65/SRP033365/sra.recount_seq_qc.SRP033365.MD.gz'</dd><dt>sra.recount_pred.SRP033365.MD.gz</dt><dd>'http://duffel.rail.bio/recount3/human/data_sources/sra/metadata/65/SRP033365/sra.recount_pred.SRP033365.MD.gz'</dd></dl>\n"
            ],
            "text/latex": "\\begin{description*}\n\\item[sra.sra.SRP033365.MD.gz] 'http://duffel.rail.bio/recount3/human/data\\_sources/sra/metadata/65/SRP033365/sra.sra.SRP033365.MD.gz'\n\\item[sra.recount\\textbackslash{}\\_project.SRP033365.MD.gz] 'http://duffel.rail.bio/recount3/human/data\\_sources/sra/metadata/65/SRP033365/sra.recount\\_project.SRP033365.MD.gz'\n\\item[sra.recount\\textbackslash{}\\_qc.SRP033365.MD.gz] 'http://duffel.rail.bio/recount3/human/data\\_sources/sra/metadata/65/SRP033365/sra.recount\\_qc.SRP033365.MD.gz'\n\\item[sra.recount\\textbackslash{}\\_seq\\textbackslash{}\\_qc.SRP033365.MD.gz] 'http://duffel.rail.bio/recount3/human/data\\_sources/sra/metadata/65/SRP033365/sra.recount\\_seq\\_qc.SRP033365.MD.gz'\n\\item[sra.recount\\textbackslash{}\\_pred.SRP033365.MD.gz] 'http://duffel.rail.bio/recount3/human/data\\_sources/sra/metadata/65/SRP033365/sra.recount\\_pred.SRP033365.MD.gz'\n\\end{description*}\n",
            "text/markdown": "sra.sra.SRP033365.MD.gz\n:   'http://duffel.rail.bio/recount3/human/data_sources/sra/metadata/65/SRP033365/sra.sra.SRP033365.MD.gz'sra.recount_project.SRP033365.MD.gz\n:   'http://duffel.rail.bio/recount3/human/data_sources/sra/metadata/65/SRP033365/sra.recount_project.SRP033365.MD.gz'sra.recount_qc.SRP033365.MD.gz\n:   'http://duffel.rail.bio/recount3/human/data_sources/sra/metadata/65/SRP033365/sra.recount_qc.SRP033365.MD.gz'sra.recount_seq_qc.SRP033365.MD.gz\n:   'http://duffel.rail.bio/recount3/human/data_sources/sra/metadata/65/SRP033365/sra.recount_seq_qc.SRP033365.MD.gz'sra.recount_pred.SRP033365.MD.gz\n:   'http://duffel.rail.bio/recount3/human/data_sources/sra/metadata/65/SRP033365/sra.recount_pred.SRP033365.MD.gz'\n\n",
            "text/plain": [
              "                                                                                           sra.sra.SRP033365.MD.gz \n",
              "            \"http://duffel.rail.bio/recount3/human/data_sources/sra/metadata/65/SRP033365/sra.sra.SRP033365.MD.gz\" \n",
              "                                                                               sra.recount_project.SRP033365.MD.gz \n",
              "\"http://duffel.rail.bio/recount3/human/data_sources/sra/metadata/65/SRP033365/sra.recount_project.SRP033365.MD.gz\" \n",
              "                                                                                    sra.recount_qc.SRP033365.MD.gz \n",
              "     \"http://duffel.rail.bio/recount3/human/data_sources/sra/metadata/65/SRP033365/sra.recount_qc.SRP033365.MD.gz\" \n",
              "                                                                                sra.recount_seq_qc.SRP033365.MD.gz \n",
              " \"http://duffel.rail.bio/recount3/human/data_sources/sra/metadata/65/SRP033365/sra.recount_seq_qc.SRP033365.MD.gz\" \n",
              "                                                                                  sra.recount_pred.SRP033365.MD.gz \n",
              "   \"http://duffel.rail.bio/recount3/human/data_sources/sra/metadata/65/SRP033365/sra.recount_pred.SRP033365.MD.gz\" "
            ]
          },
          "metadata": {},
          "output_type": "display_data"
        }
      ],
      "source": [
        "locate_url(\n",
        "  project = \"SRP033365\",\n",
        "  project_home = \"data_sources/sra\",\n",
        "  organism = \"human\",\n",
        "  annotation = \"gencode_v26\",\n",
        "  type = \"metadata\"\n",
        "  )"
      ]
    }
  ],
  "metadata": {
    "colab": {
      "provenance": []
    },
    "kernelspec": {
      "display_name": "R",
      "name": "ir"
    },
    "language_info": {
      "name": "R"
    }
  },
  "nbformat": 4,
  "nbformat_minor": 0
}